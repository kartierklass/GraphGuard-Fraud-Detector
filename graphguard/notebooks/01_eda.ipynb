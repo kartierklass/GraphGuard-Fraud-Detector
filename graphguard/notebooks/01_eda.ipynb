{
 "cells": [
  {
   "cell_type": "markdown",
   "id": "7a9e9a1a",
   "metadata": {},
   "source": [
    "# 01. Exploratory Data Analysis (EDA)\n",
    "\n",
    "**GraphGuard Fraud Detection** - IEEE-CIS Dataset Analysis\n",
    "\n",
    "This notebook performs comprehensive exploratory data analysis on the IEEE-CIS fraud detection dataset to understand the data structure, distributions, and patterns.\n",
    "\n",
    "## Overview\n",
    "\n",
    "We'll analyze:\n",
    "1. **Data loading and merging** of transaction and identity data\n",
    "2. **Stratified downsampling** for faster analysis\n",
    "3. **Target variable analysis** (fraud distribution)\n",
    "4. **Key feature exploration** (amounts, categories, patterns)\n",
    "5. **Data quality assessment** (missing values, correlations)\n",
    "\n",
    "## Dataset: IEEE-CIS Fraud Detection\n",
    "\n",
    "This is a real-world e-commerce fraud detection dataset with:\n",
    "- **Transaction data**: amounts, timestamps, product codes, card information\n",
    "- **Identity data**: device fingerprints, IP addresses, email domains\n",
    "- **Target**: `isFraud` (0 = legitimate, 1 = fraudulent)\n"
   ]
  },
  {
   "cell_type": "code",
   "execution_count": 2,
   "id": "fa838ad8",
   "metadata": {},
   "outputs": [],
   "source": [
    "# Import required libraries\n",
    "import pandas as pd\n",
    "import numpy as np\n",
    "import matplotlib.pyplot as plt\n",
    "import seaborn as sns\n",
    "import warnings\n",
    "from pathlib import Path\n",
    "from sklearn.model_selection import train_test_split"
   ]
  },
  {
   "cell_type": "code",
   "execution_count": 3,
   "id": "300bdb9c",
   "metadata": {},
   "outputs": [],
   "source": [
    "# Configure plotting\n",
    "plt.style.use('seaborn-v0_8')\n",
    "sns.set_palette(\"husl\")\n",
    "plt.rcParams['figure.figsize'] = (12, 8)\n",
    "plt.rcParams['font.size'] = 12"
   ]
  },
  {
   "cell_type": "code",
   "execution_count": 4,
   "id": "a98f687e",
   "metadata": {},
   "outputs": [],
   "source": [
    "# Suppress warnings\n",
    "warnings.filterwarnings('ignore')"
   ]
  },
  {
   "cell_type": "code",
   "execution_count": 5,
   "id": "e7b4c725",
   "metadata": {},
   "outputs": [
    {
     "name": "stdout",
     "output_type": "stream",
     "text": [
      "✅ Libraries imported successfully\n",
      "📊 Pandas version: 2.3.2\n",
      " Matplotlib version: 3.10.6\n",
      " Seaborn version: 0.13.2\n"
     ]
    }
   ],
   "source": [
    "print(\"✅ Libraries imported successfully\")\n",
    "print(f\"📊 Pandas version: {pd.__version__}\")\n",
    "print(f\" Matplotlib version: {plt.matplotlib.__version__}\")\n",
    "print(f\" Seaborn version: {sns.__version__}\")"
   ]
  },
  {
   "cell_type": "code",
   "execution_count": 6,
   "id": "8fce08c7",
   "metadata": {},
   "outputs": [],
   "source": [
    "# Set data directory path\n",
    "data_dir = Path('../data/ieee-fraud-detection')"
   ]
  },
  {
   "cell_type": "code",
   "execution_count": 7,
   "id": "83b29b56",
   "metadata": {},
   "outputs": [
    {
     "name": "stdout",
     "output_type": "stream",
     "text": [
      "📁 Data directory: c:\\Users\\koush\\OneDrive\\Desktop\\GraphGuard-Fraud-Detector\\graphguard\\notebooks\\..\\data\\ieee-fraud-detection\n",
      "\n",
      "📋 Available files:\n",
      "  - sample_submission.csv\n",
      "  - test_identity.csv\n",
      "  - test_transaction.csv\n",
      "  - train_identity.csv\n",
      "  - train_transaction.csv\n"
     ]
    }
   ],
   "source": [
    "print(\"📁 Data directory:\", data_dir.absolute())\n",
    "print(\"\\n📋 Available files:\")\n",
    "for file in data_dir.glob('*.csv'):\n",
    "    print(f\"  - {file.name}\")"
   ]
  },
  {
   "cell_type": "code",
   "execution_count": 8,
   "id": "e33ecee1",
   "metadata": {},
   "outputs": [],
   "source": [
    "# Check if files exist\n",
    "train_transaction_path = data_dir / 'train_transaction.csv'\n",
    "train_identity_path = data_dir / 'train_identity.csv'"
   ]
  },
  {
   "cell_type": "code",
   "execution_count": 9,
   "id": "d54862c7",
   "metadata": {},
   "outputs": [
    {
     "name": "stdout",
     "output_type": "stream",
     "text": [
      "\n",
      "✅ Data files found successfully\n"
     ]
    }
   ],
   "source": [
    "if not train_transaction_path.exists():\n",
    "    raise FileNotFoundError(f\"Transaction file not found: {train_transaction_path}\")\n",
    "if not train_identity_path.exists():\n",
    "    raise FileNotFoundError(f\"Identity file not found: {train_identity_path}\")\n",
    "\n",
    "print(f\"\\n✅ Data files found successfully\")"
   ]
  },
  {
   "cell_type": "code",
   "execution_count": 10,
   "id": "67b22c46",
   "metadata": {},
   "outputs": [
    {
     "name": "stdout",
     "output_type": "stream",
     "text": [
      "📊 Loading transaction data...\n"
     ]
    },
    {
     "name": "stdout",
     "output_type": "stream",
     "text": [
      "✅ Transaction data loaded: (590540, 394)\n"
     ]
    }
   ],
   "source": [
    "# Load transaction data\n",
    "print(\"📊 Loading transaction data...\")\n",
    "train_transaction = pd.read_csv(train_transaction_path)\n",
    "print(f\"✅ Transaction data loaded: {train_transaction.shape}\")\n"
   ]
  },
  {
   "cell_type": "code",
   "execution_count": 11,
   "id": "7a7b12d3",
   "metadata": {},
   "outputs": [
    {
     "name": "stdout",
     "output_type": "stream",
     "text": [
      "📊 Loading identity data...\n",
      "✅ Identity data loaded: (144233, 41)\n"
     ]
    }
   ],
   "source": [
    "# Load identity data\n",
    "print(\"📊 Loading identity data...\")\n",
    "train_identity = pd.read_csv(train_identity_path)\n",
    "print(f\"✅ Identity data loaded: {train_identity.shape}\")\n"
   ]
  },
  {
   "cell_type": "code",
   "execution_count": 12,
   "id": "dfcb6ece",
   "metadata": {},
   "outputs": [
    {
     "name": "stdout",
     "output_type": "stream",
     "text": [
      "\n",
      "📈 Data shapes:\n",
      "  Transaction: 590,540 rows × 394 columns\n",
      "  Identity: 144,233 rows × 41 columns\n"
     ]
    }
   ],
   "source": [
    "print(f\"\\n📈 Data shapes:\")\n",
    "print(f\"  Transaction: {train_transaction.shape[0]:,} rows × {train_transaction.shape[1]} columns\")\n",
    "print(f\"  Identity: {train_identity.shape[0]:,} rows × {train_identity.shape[1]} columns\")"
   ]
  },
  {
   "cell_type": "code",
   "execution_count": 13,
   "id": "d15b33d3",
   "metadata": {},
   "outputs": [
    {
     "name": "stdout",
     "output_type": "stream",
     "text": [
      "🔗 Merging transaction and identity data...\n"
     ]
    }
   ],
   "source": [
    "# Merge transaction and identity data\n",
    "print(\"🔗 Merging transaction and identity data...\")\n"
   ]
  },
  {
   "cell_type": "code",
   "execution_count": 14,
   "id": "61397315",
   "metadata": {},
   "outputs": [
    {
     "name": "stdout",
     "output_type": "stream",
     "text": [
      "\n",
      "📋 Common columns: ['TransactionID']\n"
     ]
    }
   ],
   "source": [
    "# Check for common columns\n",
    "common_cols = set(train_transaction.columns) & set(train_identity.columns)\n",
    "print(f\"\\n📋 Common columns: {list(common_cols)}\")\n"
   ]
  },
  {
   "cell_type": "code",
   "execution_count": 15,
   "id": "7e1d5c0b",
   "metadata": {},
   "outputs": [
    {
     "name": "stdout",
     "output_type": "stream",
     "text": [
      "✅ Data merged successfully!\n",
      "📊 Final shape: 590,540 rows × 434 columns\n",
      "�� Rows with identity data: 144,233 (24.4%)\n",
      "📊 Rows without identity data: 446,307 (75.6%)\n"
     ]
    }
   ],
   "source": [
    "# Merge on TransactionID (left join to keep all transactions)\n",
    "df = train_transaction.merge(train_identity, on='TransactionID', how='left')\n",
    "\n",
    "print(f\"✅ Data merged successfully!\")\n",
    "print(f\"📊 Final shape: {df.shape[0]:,} rows × {df.shape[1]} columns\")\n",
    "print(f\"�� Rows with identity data: {df.dropna(subset=['id_01']).shape[0]:,} ({df.dropna(subset=['id_01']).shape[0]/df.shape[0]*100:.1f}%)\")\n",
    "print(f\"📊 Rows without identity data: {df[df['id_01'].isna()].shape[0]:,} ({df[df['id_01'].isna()].shape[0]/df.shape[0]*100:.1f}%)\")"
   ]
  },
  {
   "cell_type": "code",
   "execution_count": 16,
   "id": "eee577b8",
   "metadata": {},
   "outputs": [
    {
     "name": "stdout",
     "output_type": "stream",
     "text": [
      "📉 Downsampling data to 20% for faster analysis...\n",
      "\n",
      "📊 Original fraud rate: 0.0350 (3.50%)\n",
      "📊 Original fraud counts: {0: 569877, 1: 20663}\n"
     ]
    }
   ],
   "source": [
    "# Downsample to 20% for faster analysis\n",
    "print(\"📉 Downsampling data to 20% for faster analysis...\")\n",
    "\n",
    "# Check current fraud distribution\n",
    "original_fraud_rate = df['isFraud'].mean()\n",
    "print(f\"\\n📊 Original fraud rate: {original_fraud_rate:.4f} ({original_fraud_rate*100:.2f}%)\")\n",
    "print(f\"📊 Original fraud counts: {df['isFraud'].value_counts().to_dict()}\")"
   ]
  },
  {
   "cell_type": "code",
   "execution_count": 17,
   "id": "e2159e73",
   "metadata": {},
   "outputs": [
    {
     "name": "stdout",
     "output_type": "stream",
     "text": [
      "\n",
      "�� Target sample size: 118,108 (20% of 590,540)\n"
     ]
    }
   ],
   "source": [
    "# Calculate target sample size (20% of original)\n",
    "target_size = int(len(df) * 0.2)\n",
    "print(f\"\\n�� Target sample size: {target_size:,} (20% of {len(df):,})\")\n"
   ]
  },
  {
   "cell_type": "code",
   "execution_count": 18,
   "id": "b14d6375",
   "metadata": {},
   "outputs": [
    {
     "name": "stdout",
     "output_type": "stream",
     "text": [
      "✅ Downsampling completed!\n",
      "Sampled shape: 118,108 rows × 434 columns\n"
     ]
    }
   ],
   "source": [
    "# Perform stratified sampling\n",
    "df_sampled, _ = train_test_split(\n",
    "    df, \n",
    "    train_size=0.2, \n",
    "    stratify=df['isFraud'], \n",
    "    random_state=42\n",
    ")\n",
    "\n",
    "print(f\"✅ Downsampling completed!\")\n",
    "print(f\"Sampled shape: {df_sampled.shape[0]:,} rows × {df_sampled.shape[1]} columns\")"
   ]
  },
  {
   "cell_type": "code",
   "execution_count": 19,
   "id": "0913581e",
   "metadata": {},
   "outputs": [
    {
     "name": "stdout",
     "output_type": "stream",
     "text": [
      "Sampled fraud rate: 0.0350 (3.50%)\n",
      "📊 Sampled fraud counts: {0: 113975, 1: 4133}\n",
      "Rate preservation: 1.000x\n"
     ]
    }
   ],
   "source": [
    "# Verify fraud distribution is preserved\n",
    "sampled_fraud_rate = df_sampled['isFraud'].mean()\n",
    "print(f\"Sampled fraud rate: {sampled_fraud_rate:.4f} ({sampled_fraud_rate*100:.2f}%)\")\n",
    "print(f\"📊 Sampled fraud counts: {df_sampled['isFraud'].value_counts().to_dict()}\")\n",
    "print(f\"Rate preservation: {sampled_fraud_rate/original_fraud_rate:.3f}x\")"
   ]
  },
  {
   "cell_type": "code",
   "execution_count": 20,
   "id": "dbb058ea",
   "metadata": {},
   "outputs": [
    {
     "name": "stdout",
     "output_type": "stream",
     "text": [
      "📋 First 5 rows of the dataset:\n"
     ]
    },
    {
     "data": {
      "text/html": [
       "<div>\n",
       "<style scoped>\n",
       "    .dataframe tbody tr th:only-of-type {\n",
       "        vertical-align: middle;\n",
       "    }\n",
       "\n",
       "    .dataframe tbody tr th {\n",
       "        vertical-align: top;\n",
       "    }\n",
       "\n",
       "    .dataframe thead th {\n",
       "        text-align: right;\n",
       "    }\n",
       "</style>\n",
       "<table border=\"1\" class=\"dataframe\">\n",
       "  <thead>\n",
       "    <tr style=\"text-align: right;\">\n",
       "      <th></th>\n",
       "      <th>TransactionID</th>\n",
       "      <th>isFraud</th>\n",
       "      <th>TransactionDT</th>\n",
       "      <th>TransactionAmt</th>\n",
       "      <th>ProductCD</th>\n",
       "      <th>card1</th>\n",
       "      <th>card2</th>\n",
       "      <th>card3</th>\n",
       "      <th>card4</th>\n",
       "      <th>card5</th>\n",
       "      <th>...</th>\n",
       "      <th>id_31</th>\n",
       "      <th>id_32</th>\n",
       "      <th>id_33</th>\n",
       "      <th>id_34</th>\n",
       "      <th>id_35</th>\n",
       "      <th>id_36</th>\n",
       "      <th>id_37</th>\n",
       "      <th>id_38</th>\n",
       "      <th>DeviceType</th>\n",
       "      <th>DeviceInfo</th>\n",
       "    </tr>\n",
       "  </thead>\n",
       "  <tbody>\n",
       "    <tr>\n",
       "      <th>416931</th>\n",
       "      <td>3403931</td>\n",
       "      <td>0</td>\n",
       "      <td>10529396</td>\n",
       "      <td>61.950</td>\n",
       "      <td>W</td>\n",
       "      <td>14223</td>\n",
       "      <td>382.0</td>\n",
       "      <td>150.0</td>\n",
       "      <td>visa</td>\n",
       "      <td>226.0</td>\n",
       "      <td>...</td>\n",
       "      <td>NaN</td>\n",
       "      <td>NaN</td>\n",
       "      <td>NaN</td>\n",
       "      <td>NaN</td>\n",
       "      <td>NaN</td>\n",
       "      <td>NaN</td>\n",
       "      <td>NaN</td>\n",
       "      <td>NaN</td>\n",
       "      <td>NaN</td>\n",
       "      <td>NaN</td>\n",
       "    </tr>\n",
       "    <tr>\n",
       "      <th>176079</th>\n",
       "      <td>3163079</td>\n",
       "      <td>0</td>\n",
       "      <td>3807483</td>\n",
       "      <td>30.950</td>\n",
       "      <td>W</td>\n",
       "      <td>2516</td>\n",
       "      <td>310.0</td>\n",
       "      <td>150.0</td>\n",
       "      <td>mastercard</td>\n",
       "      <td>224.0</td>\n",
       "      <td>...</td>\n",
       "      <td>NaN</td>\n",
       "      <td>NaN</td>\n",
       "      <td>NaN</td>\n",
       "      <td>NaN</td>\n",
       "      <td>NaN</td>\n",
       "      <td>NaN</td>\n",
       "      <td>NaN</td>\n",
       "      <td>NaN</td>\n",
       "      <td>NaN</td>\n",
       "      <td>NaN</td>\n",
       "    </tr>\n",
       "    <tr>\n",
       "      <th>413463</th>\n",
       "      <td>3400463</td>\n",
       "      <td>0</td>\n",
       "      <td>10438968</td>\n",
       "      <td>29.000</td>\n",
       "      <td>W</td>\n",
       "      <td>7585</td>\n",
       "      <td>553.0</td>\n",
       "      <td>150.0</td>\n",
       "      <td>visa</td>\n",
       "      <td>226.0</td>\n",
       "      <td>...</td>\n",
       "      <td>NaN</td>\n",
       "      <td>NaN</td>\n",
       "      <td>NaN</td>\n",
       "      <td>NaN</td>\n",
       "      <td>NaN</td>\n",
       "      <td>NaN</td>\n",
       "      <td>NaN</td>\n",
       "      <td>NaN</td>\n",
       "      <td>NaN</td>\n",
       "      <td>NaN</td>\n",
       "    </tr>\n",
       "    <tr>\n",
       "      <th>572537</th>\n",
       "      <td>3559537</td>\n",
       "      <td>0</td>\n",
       "      <td>15201232</td>\n",
       "      <td>43.774</td>\n",
       "      <td>C</td>\n",
       "      <td>10823</td>\n",
       "      <td>555.0</td>\n",
       "      <td>171.0</td>\n",
       "      <td>mastercard</td>\n",
       "      <td>224.0</td>\n",
       "      <td>...</td>\n",
       "      <td>chrome 66.0 for android</td>\n",
       "      <td>NaN</td>\n",
       "      <td>NaN</td>\n",
       "      <td>NaN</td>\n",
       "      <td>F</td>\n",
       "      <td>F</td>\n",
       "      <td>T</td>\n",
       "      <td>F</td>\n",
       "      <td>mobile</td>\n",
       "      <td>Redmi Note 4X Build/MRA58K</td>\n",
       "    </tr>\n",
       "    <tr>\n",
       "      <th>447376</th>\n",
       "      <td>3434376</td>\n",
       "      <td>0</td>\n",
       "      <td>11393141</td>\n",
       "      <td>10.513</td>\n",
       "      <td>C</td>\n",
       "      <td>9633</td>\n",
       "      <td>130.0</td>\n",
       "      <td>185.0</td>\n",
       "      <td>visa</td>\n",
       "      <td>138.0</td>\n",
       "      <td>...</td>\n",
       "      <td>mobile safari generic</td>\n",
       "      <td>NaN</td>\n",
       "      <td>NaN</td>\n",
       "      <td>NaN</td>\n",
       "      <td>F</td>\n",
       "      <td>F</td>\n",
       "      <td>F</td>\n",
       "      <td>F</td>\n",
       "      <td>mobile</td>\n",
       "      <td>NaN</td>\n",
       "    </tr>\n",
       "  </tbody>\n",
       "</table>\n",
       "<p>5 rows × 434 columns</p>\n",
       "</div>"
      ],
      "text/plain": [
       "        TransactionID  isFraud  TransactionDT  TransactionAmt ProductCD  \\\n",
       "416931        3403931        0       10529396          61.950         W   \n",
       "176079        3163079        0        3807483          30.950         W   \n",
       "413463        3400463        0       10438968          29.000         W   \n",
       "572537        3559537        0       15201232          43.774         C   \n",
       "447376        3434376        0       11393141          10.513         C   \n",
       "\n",
       "        card1  card2  card3       card4  card5  ...                    id_31  \\\n",
       "416931  14223  382.0  150.0        visa  226.0  ...                      NaN   \n",
       "176079   2516  310.0  150.0  mastercard  224.0  ...                      NaN   \n",
       "413463   7585  553.0  150.0        visa  226.0  ...                      NaN   \n",
       "572537  10823  555.0  171.0  mastercard  224.0  ...  chrome 66.0 for android   \n",
       "447376   9633  130.0  185.0        visa  138.0  ...    mobile safari generic   \n",
       "\n",
       "        id_32  id_33  id_34  id_35 id_36 id_37  id_38  DeviceType  \\\n",
       "416931    NaN    NaN    NaN    NaN   NaN   NaN    NaN         NaN   \n",
       "176079    NaN    NaN    NaN    NaN   NaN   NaN    NaN         NaN   \n",
       "413463    NaN    NaN    NaN    NaN   NaN   NaN    NaN         NaN   \n",
       "572537    NaN    NaN    NaN      F     F     T      F      mobile   \n",
       "447376    NaN    NaN    NaN      F     F     F      F      mobile   \n",
       "\n",
       "                        DeviceInfo  \n",
       "416931                         NaN  \n",
       "176079                         NaN  \n",
       "413463                         NaN  \n",
       "572537  Redmi Note 4X Build/MRA58K  \n",
       "447376                         NaN  \n",
       "\n",
       "[5 rows x 434 columns]"
      ]
     },
     "metadata": {},
     "output_type": "display_data"
    }
   ],
   "source": [
    "# Display first 5 rows\n",
    "print(\"📋 First 5 rows of the dataset:\")\n",
    "display(df_sampled.head())"
   ]
  },
  {
   "cell_type": "code",
   "execution_count": 21,
   "id": "413130b7",
   "metadata": {},
   "outputs": [
    {
     "name": "stdout",
     "output_type": "stream",
     "text": [
      "Dataset Shape: 118,108 rows × 434 columns\n",
      "📊 Memory usage: 503.71 MB\n"
     ]
    }
   ],
   "source": [
    "# Display dataset shape\n",
    "print(f\"Dataset Shape: {df_sampled.shape[0]:,} rows × {df_sampled.shape[1]} columns\")\n",
    "print(f\"📊 Memory usage: {df_sampled.memory_usage(deep=True).sum() / 1024**2:.2f} MB\")"
   ]
  },
  {
   "cell_type": "code",
   "execution_count": 22,
   "id": "d379ab83",
   "metadata": {},
   "outputs": [
    {
     "name": "stdout",
     "output_type": "stream",
     "text": [
      "📋 Detailed dataset information:\n",
      "<class 'pandas.core.frame.DataFrame'>\n",
      "Index: 118108 entries, 416931 to 337290\n",
      "Data columns (total 434 columns):\n",
      " #    Column          Dtype  \n",
      "---   ------          -----  \n",
      " 0    TransactionID   int64  \n",
      " 1    isFraud         int64  \n",
      " 2    TransactionDT   int64  \n",
      " 3    TransactionAmt  float64\n",
      " 4    ProductCD       object \n",
      " 5    card1           int64  \n",
      " 6    card2           float64\n",
      " 7    card3           float64\n",
      " 8    card4           object \n",
      " 9    card5           float64\n",
      " 10   card6           object \n",
      " 11   addr1           float64\n",
      " 12   addr2           float64\n",
      " 13   dist1           float64\n",
      " 14   dist2           float64\n",
      " 15   P_emaildomain   object \n",
      " 16   R_emaildomain   object \n",
      " 17   C1              float64\n",
      " 18   C2              float64\n",
      " 19   C3              float64\n",
      " 20   C4              float64\n",
      " 21   C5              float64\n",
      " 22   C6              float64\n",
      " 23   C7              float64\n",
      " 24   C8              float64\n",
      " 25   C9              float64\n",
      " 26   C10             float64\n",
      " 27   C11             float64\n",
      " 28   C12             float64\n",
      " 29   C13             float64\n",
      " 30   C14             float64\n",
      " 31   D1              float64\n",
      " 32   D2              float64\n",
      " 33   D3              float64\n",
      " 34   D4              float64\n",
      " 35   D5              float64\n",
      " 36   D6              float64\n",
      " 37   D7              float64\n",
      " 38   D8              float64\n",
      " 39   D9              float64\n",
      " 40   D10             float64\n",
      " 41   D11             float64\n",
      " 42   D12             float64\n",
      " 43   D13             float64\n",
      " 44   D14             float64\n",
      " 45   D15             float64\n",
      " 46   M1              object \n",
      " 47   M2              object \n",
      " 48   M3              object \n",
      " 49   M4              object \n",
      " 50   M5              object \n",
      " 51   M6              object \n",
      " 52   M7              object \n",
      " 53   M8              object \n",
      " 54   M9              object \n",
      " 55   V1              float64\n",
      " 56   V2              float64\n",
      " 57   V3              float64\n",
      " 58   V4              float64\n",
      " 59   V5              float64\n",
      " 60   V6              float64\n",
      " 61   V7              float64\n",
      " 62   V8              float64\n",
      " 63   V9              float64\n",
      " 64   V10             float64\n",
      " 65   V11             float64\n",
      " 66   V12             float64\n",
      " 67   V13             float64\n",
      " 68   V14             float64\n",
      " 69   V15             float64\n",
      " 70   V16             float64\n",
      " 71   V17             float64\n",
      " 72   V18             float64\n",
      " 73   V19             float64\n",
      " 74   V20             float64\n",
      " 75   V21             float64\n",
      " 76   V22             float64\n",
      " 77   V23             float64\n",
      " 78   V24             float64\n",
      " 79   V25             float64\n",
      " 80   V26             float64\n",
      " 81   V27             float64\n",
      " 82   V28             float64\n",
      " 83   V29             float64\n",
      " 84   V30             float64\n",
      " 85   V31             float64\n",
      " 86   V32             float64\n",
      " 87   V33             float64\n",
      " 88   V34             float64\n",
      " 89   V35             float64\n",
      " 90   V36             float64\n",
      " 91   V37             float64\n",
      " 92   V38             float64\n",
      " 93   V39             float64\n",
      " 94   V40             float64\n",
      " 95   V41             float64\n",
      " 96   V42             float64\n",
      " 97   V43             float64\n",
      " 98   V44             float64\n",
      " 99   V45             float64\n",
      " 100  V46             float64\n",
      " 101  V47             float64\n",
      " 102  V48             float64\n",
      " 103  V49             float64\n",
      " 104  V50             float64\n",
      " 105  V51             float64\n",
      " 106  V52             float64\n",
      " 107  V53             float64\n",
      " 108  V54             float64\n",
      " 109  V55             float64\n",
      " 110  V56             float64\n",
      " 111  V57             float64\n",
      " 112  V58             float64\n",
      " 113  V59             float64\n",
      " 114  V60             float64\n",
      " 115  V61             float64\n",
      " 116  V62             float64\n",
      " 117  V63             float64\n",
      " 118  V64             float64\n",
      " 119  V65             float64\n",
      " 120  V66             float64\n",
      " 121  V67             float64\n",
      " 122  V68             float64\n",
      " 123  V69             float64\n",
      " 124  V70             float64\n",
      " 125  V71             float64\n",
      " 126  V72             float64\n",
      " 127  V73             float64\n",
      " 128  V74             float64\n",
      " 129  V75             float64\n",
      " 130  V76             float64\n",
      " 131  V77             float64\n",
      " 132  V78             float64\n",
      " 133  V79             float64\n",
      " 134  V80             float64\n",
      " 135  V81             float64\n",
      " 136  V82             float64\n",
      " 137  V83             float64\n",
      " 138  V84             float64\n",
      " 139  V85             float64\n",
      " 140  V86             float64\n",
      " 141  V87             float64\n",
      " 142  V88             float64\n",
      " 143  V89             float64\n",
      " 144  V90             float64\n",
      " 145  V91             float64\n",
      " 146  V92             float64\n",
      " 147  V93             float64\n",
      " 148  V94             float64\n",
      " 149  V95             float64\n",
      " 150  V96             float64\n",
      " 151  V97             float64\n",
      " 152  V98             float64\n",
      " 153  V99             float64\n",
      " 154  V100            float64\n",
      " 155  V101            float64\n",
      " 156  V102            float64\n",
      " 157  V103            float64\n",
      " 158  V104            float64\n",
      " 159  V105            float64\n",
      " 160  V106            float64\n",
      " 161  V107            float64\n",
      " 162  V108            float64\n",
      " 163  V109            float64\n",
      " 164  V110            float64\n",
      " 165  V111            float64\n",
      " 166  V112            float64\n",
      " 167  V113            float64\n",
      " 168  V114            float64\n",
      " 169  V115            float64\n",
      " 170  V116            float64\n",
      " 171  V117            float64\n",
      " 172  V118            float64\n",
      " 173  V119            float64\n",
      " 174  V120            float64\n",
      " 175  V121            float64\n",
      " 176  V122            float64\n",
      " 177  V123            float64\n",
      " 178  V124            float64\n",
      " 179  V125            float64\n",
      " 180  V126            float64\n",
      " 181  V127            float64\n",
      " 182  V128            float64\n",
      " 183  V129            float64\n",
      " 184  V130            float64\n",
      " 185  V131            float64\n",
      " 186  V132            float64\n",
      " 187  V133            float64\n",
      " 188  V134            float64\n",
      " 189  V135            float64\n",
      " 190  V136            float64\n",
      " 191  V137            float64\n",
      " 192  V138            float64\n",
      " 193  V139            float64\n",
      " 194  V140            float64\n",
      " 195  V141            float64\n",
      " 196  V142            float64\n",
      " 197  V143            float64\n",
      " 198  V144            float64\n",
      " 199  V145            float64\n",
      " 200  V146            float64\n",
      " 201  V147            float64\n",
      " 202  V148            float64\n",
      " 203  V149            float64\n",
      " 204  V150            float64\n",
      " 205  V151            float64\n",
      " 206  V152            float64\n",
      " 207  V153            float64\n",
      " 208  V154            float64\n",
      " 209  V155            float64\n",
      " 210  V156            float64\n",
      " 211  V157            float64\n",
      " 212  V158            float64\n",
      " 213  V159            float64\n",
      " 214  V160            float64\n",
      " 215  V161            float64\n",
      " 216  V162            float64\n",
      " 217  V163            float64\n",
      " 218  V164            float64\n",
      " 219  V165            float64\n",
      " 220  V166            float64\n",
      " 221  V167            float64\n",
      " 222  V168            float64\n",
      " 223  V169            float64\n",
      " 224  V170            float64\n",
      " 225  V171            float64\n",
      " 226  V172            float64\n",
      " 227  V173            float64\n",
      " 228  V174            float64\n",
      " 229  V175            float64\n",
      " 230  V176            float64\n",
      " 231  V177            float64\n",
      " 232  V178            float64\n",
      " 233  V179            float64\n",
      " 234  V180            float64\n",
      " 235  V181            float64\n",
      " 236  V182            float64\n",
      " 237  V183            float64\n",
      " 238  V184            float64\n",
      " 239  V185            float64\n",
      " 240  V186            float64\n",
      " 241  V187            float64\n",
      " 242  V188            float64\n",
      " 243  V189            float64\n",
      " 244  V190            float64\n",
      " 245  V191            float64\n",
      " 246  V192            float64\n",
      " 247  V193            float64\n",
      " 248  V194            float64\n",
      " 249  V195            float64\n",
      " 250  V196            float64\n",
      " 251  V197            float64\n",
      " 252  V198            float64\n",
      " 253  V199            float64\n",
      " 254  V200            float64\n",
      " 255  V201            float64\n",
      " 256  V202            float64\n",
      " 257  V203            float64\n",
      " 258  V204            float64\n",
      " 259  V205            float64\n",
      " 260  V206            float64\n",
      " 261  V207            float64\n",
      " 262  V208            float64\n",
      " 263  V209            float64\n",
      " 264  V210            float64\n",
      " 265  V211            float64\n",
      " 266  V212            float64\n",
      " 267  V213            float64\n",
      " 268  V214            float64\n",
      " 269  V215            float64\n",
      " 270  V216            float64\n",
      " 271  V217            float64\n",
      " 272  V218            float64\n",
      " 273  V219            float64\n",
      " 274  V220            float64\n",
      " 275  V221            float64\n",
      " 276  V222            float64\n",
      " 277  V223            float64\n",
      " 278  V224            float64\n",
      " 279  V225            float64\n",
      " 280  V226            float64\n",
      " 281  V227            float64\n",
      " 282  V228            float64\n",
      " 283  V229            float64\n",
      " 284  V230            float64\n",
      " 285  V231            float64\n",
      " 286  V232            float64\n",
      " 287  V233            float64\n",
      " 288  V234            float64\n",
      " 289  V235            float64\n",
      " 290  V236            float64\n",
      " 291  V237            float64\n",
      " 292  V238            float64\n",
      " 293  V239            float64\n",
      " 294  V240            float64\n",
      " 295  V241            float64\n",
      " 296  V242            float64\n",
      " 297  V243            float64\n",
      " 298  V244            float64\n",
      " 299  V245            float64\n",
      " 300  V246            float64\n",
      " 301  V247            float64\n",
      " 302  V248            float64\n",
      " 303  V249            float64\n",
      " 304  V250            float64\n",
      " 305  V251            float64\n",
      " 306  V252            float64\n",
      " 307  V253            float64\n",
      " 308  V254            float64\n",
      " 309  V255            float64\n",
      " 310  V256            float64\n",
      " 311  V257            float64\n",
      " 312  V258            float64\n",
      " 313  V259            float64\n",
      " 314  V260            float64\n",
      " 315  V261            float64\n",
      " 316  V262            float64\n",
      " 317  V263            float64\n",
      " 318  V264            float64\n",
      " 319  V265            float64\n",
      " 320  V266            float64\n",
      " 321  V267            float64\n",
      " 322  V268            float64\n",
      " 323  V269            float64\n",
      " 324  V270            float64\n",
      " 325  V271            float64\n",
      " 326  V272            float64\n",
      " 327  V273            float64\n",
      " 328  V274            float64\n",
      " 329  V275            float64\n",
      " 330  V276            float64\n",
      " 331  V277            float64\n",
      " 332  V278            float64\n",
      " 333  V279            float64\n",
      " 334  V280            float64\n",
      " 335  V281            float64\n",
      " 336  V282            float64\n",
      " 337  V283            float64\n",
      " 338  V284            float64\n",
      " 339  V285            float64\n",
      " 340  V286            float64\n",
      " 341  V287            float64\n",
      " 342  V288            float64\n",
      " 343  V289            float64\n",
      " 344  V290            float64\n",
      " 345  V291            float64\n",
      " 346  V292            float64\n",
      " 347  V293            float64\n",
      " 348  V294            float64\n",
      " 349  V295            float64\n",
      " 350  V296            float64\n",
      " 351  V297            float64\n",
      " 352  V298            float64\n",
      " 353  V299            float64\n",
      " 354  V300            float64\n",
      " 355  V301            float64\n",
      " 356  V302            float64\n",
      " 357  V303            float64\n",
      " 358  V304            float64\n",
      " 359  V305            float64\n",
      " 360  V306            float64\n",
      " 361  V307            float64\n",
      " 362  V308            float64\n",
      " 363  V309            float64\n",
      " 364  V310            float64\n",
      " 365  V311            float64\n",
      " 366  V312            float64\n",
      " 367  V313            float64\n",
      " 368  V314            float64\n",
      " 369  V315            float64\n",
      " 370  V316            float64\n",
      " 371  V317            float64\n",
      " 372  V318            float64\n",
      " 373  V319            float64\n",
      " 374  V320            float64\n",
      " 375  V321            float64\n",
      " 376  V322            float64\n",
      " 377  V323            float64\n",
      " 378  V324            float64\n",
      " 379  V325            float64\n",
      " 380  V326            float64\n",
      " 381  V327            float64\n",
      " 382  V328            float64\n",
      " 383  V329            float64\n",
      " 384  V330            float64\n",
      " 385  V331            float64\n",
      " 386  V332            float64\n",
      " 387  V333            float64\n",
      " 388  V334            float64\n",
      " 389  V335            float64\n",
      " 390  V336            float64\n",
      " 391  V337            float64\n",
      " 392  V338            float64\n",
      " 393  V339            float64\n",
      " 394  id_01           float64\n",
      " 395  id_02           float64\n",
      " 396  id_03           float64\n",
      " 397  id_04           float64\n",
      " 398  id_05           float64\n",
      " 399  id_06           float64\n",
      " 400  id_07           float64\n",
      " 401  id_08           float64\n",
      " 402  id_09           float64\n",
      " 403  id_10           float64\n",
      " 404  id_11           float64\n",
      " 405  id_12           object \n",
      " 406  id_13           float64\n",
      " 407  id_14           float64\n",
      " 408  id_15           object \n",
      " 409  id_16           object \n",
      " 410  id_17           float64\n",
      " 411  id_18           float64\n",
      " 412  id_19           float64\n",
      " 413  id_20           float64\n",
      " 414  id_21           float64\n",
      " 415  id_22           float64\n",
      " 416  id_23           object \n",
      " 417  id_24           float64\n",
      " 418  id_25           float64\n",
      " 419  id_26           float64\n",
      " 420  id_27           object \n",
      " 421  id_28           object \n",
      " 422  id_29           object \n",
      " 423  id_30           object \n",
      " 424  id_31           object \n",
      " 425  id_32           float64\n",
      " 426  id_33           object \n",
      " 427  id_34           object \n",
      " 428  id_35           object \n",
      " 429  id_36           object \n",
      " 430  id_37           object \n",
      " 431  id_38           object \n",
      " 432  DeviceType      object \n",
      " 433  DeviceInfo      object \n",
      "dtypes: float64(399), int64(4), object(31)\n",
      "memory usage: 392.0+ MB\n"
     ]
    }
   ],
   "source": [
    "# Display detailed information about the dataset\n",
    "print(\"📋 Detailed dataset information:\")\n",
    "df_sampled.info(verbose=True, memory_usage=True)"
   ]
  },
  {
   "cell_type": "code",
   "execution_count": 23,
   "id": "b725f8b8",
   "metadata": {},
   "outputs": [
    {
     "name": "stdout",
     "output_type": "stream",
     "text": [
      "📊 Basic statistics for key numerical columns:\n"
     ]
    },
    {
     "data": {
      "text/html": [
       "<div>\n",
       "<style scoped>\n",
       "    .dataframe tbody tr th:only-of-type {\n",
       "        vertical-align: middle;\n",
       "    }\n",
       "\n",
       "    .dataframe tbody tr th {\n",
       "        vertical-align: top;\n",
       "    }\n",
       "\n",
       "    .dataframe thead th {\n",
       "        text-align: right;\n",
       "    }\n",
       "</style>\n",
       "<table border=\"1\" class=\"dataframe\">\n",
       "  <thead>\n",
       "    <tr style=\"text-align: right;\">\n",
       "      <th></th>\n",
       "      <th>TransactionAmt</th>\n",
       "      <th>isFraud</th>\n",
       "      <th>TransactionDT</th>\n",
       "      <th>card1</th>\n",
       "      <th>card2</th>\n",
       "      <th>card3</th>\n",
       "      <th>addr1</th>\n",
       "      <th>addr2</th>\n",
       "      <th>dist1</th>\n",
       "      <th>dist2</th>\n",
       "    </tr>\n",
       "  </thead>\n",
       "  <tbody>\n",
       "    <tr>\n",
       "      <th>count</th>\n",
       "      <td>118108.000000</td>\n",
       "      <td>118108.000000</td>\n",
       "      <td>1.181080e+05</td>\n",
       "      <td>118108.000000</td>\n",
       "      <td>116268.000000</td>\n",
       "      <td>117791.000000</td>\n",
       "      <td>104868.000000</td>\n",
       "      <td>104868.000000</td>\n",
       "      <td>47454.000000</td>\n",
       "      <td>7615.000000</td>\n",
       "    </tr>\n",
       "    <tr>\n",
       "      <th>mean</th>\n",
       "      <td>134.735515</td>\n",
       "      <td>0.034993</td>\n",
       "      <td>7.376810e+06</td>\n",
       "      <td>9932.235149</td>\n",
       "      <td>362.564936</td>\n",
       "      <td>153.216001</td>\n",
       "      <td>291.023763</td>\n",
       "      <td>86.798842</td>\n",
       "      <td>118.072470</td>\n",
       "      <td>237.069074</td>\n",
       "    </tr>\n",
       "    <tr>\n",
       "      <th>std</th>\n",
       "      <td>246.781378</td>\n",
       "      <td>0.183764</td>\n",
       "      <td>4.614744e+06</td>\n",
       "      <td>4897.732801</td>\n",
       "      <td>157.787662</td>\n",
       "      <td>11.336260</td>\n",
       "      <td>101.908115</td>\n",
       "      <td>2.722039</td>\n",
       "      <td>374.795082</td>\n",
       "      <td>550.711561</td>\n",
       "    </tr>\n",
       "    <tr>\n",
       "      <th>min</th>\n",
       "      <td>0.272000</td>\n",
       "      <td>0.000000</td>\n",
       "      <td>8.646900e+04</td>\n",
       "      <td>1008.000000</td>\n",
       "      <td>100.000000</td>\n",
       "      <td>100.000000</td>\n",
       "      <td>100.000000</td>\n",
       "      <td>10.000000</td>\n",
       "      <td>0.000000</td>\n",
       "      <td>0.000000</td>\n",
       "    </tr>\n",
       "    <tr>\n",
       "      <th>25%</th>\n",
       "      <td>42.950000</td>\n",
       "      <td>0.000000</td>\n",
       "      <td>3.072375e+06</td>\n",
       "      <td>6019.000000</td>\n",
       "      <td>215.000000</td>\n",
       "      <td>150.000000</td>\n",
       "      <td>204.000000</td>\n",
       "      <td>87.000000</td>\n",
       "      <td>3.000000</td>\n",
       "      <td>7.000000</td>\n",
       "    </tr>\n",
       "    <tr>\n",
       "      <th>50%</th>\n",
       "      <td>68.950000</td>\n",
       "      <td>0.000000</td>\n",
       "      <td>7.307620e+06</td>\n",
       "      <td>9749.000000</td>\n",
       "      <td>361.000000</td>\n",
       "      <td>150.000000</td>\n",
       "      <td>299.000000</td>\n",
       "      <td>87.000000</td>\n",
       "      <td>8.000000</td>\n",
       "      <td>40.000000</td>\n",
       "    </tr>\n",
       "    <tr>\n",
       "      <th>75%</th>\n",
       "      <td>125.000000</td>\n",
       "      <td>0.000000</td>\n",
       "      <td>1.123883e+07</td>\n",
       "      <td>14259.000000</td>\n",
       "      <td>512.000000</td>\n",
       "      <td>150.000000</td>\n",
       "      <td>330.000000</td>\n",
       "      <td>87.000000</td>\n",
       "      <td>24.000000</td>\n",
       "      <td>206.000000</td>\n",
       "    </tr>\n",
       "    <tr>\n",
       "      <th>max</th>\n",
       "      <td>31937.391000</td>\n",
       "      <td>1.000000</td>\n",
       "      <td>1.581094e+07</td>\n",
       "      <td>18395.000000</td>\n",
       "      <td>600.000000</td>\n",
       "      <td>229.000000</td>\n",
       "      <td>540.000000</td>\n",
       "      <td>102.000000</td>\n",
       "      <td>10286.000000</td>\n",
       "      <td>8787.000000</td>\n",
       "    </tr>\n",
       "  </tbody>\n",
       "</table>\n",
       "</div>"
      ],
      "text/plain": [
       "       TransactionAmt        isFraud  TransactionDT          card1  \\\n",
       "count   118108.000000  118108.000000   1.181080e+05  118108.000000   \n",
       "mean       134.735515       0.034993   7.376810e+06    9932.235149   \n",
       "std        246.781378       0.183764   4.614744e+06    4897.732801   \n",
       "min          0.272000       0.000000   8.646900e+04    1008.000000   \n",
       "25%         42.950000       0.000000   3.072375e+06    6019.000000   \n",
       "50%         68.950000       0.000000   7.307620e+06    9749.000000   \n",
       "75%        125.000000       0.000000   1.123883e+07   14259.000000   \n",
       "max      31937.391000       1.000000   1.581094e+07   18395.000000   \n",
       "\n",
       "               card2          card3          addr1          addr2  \\\n",
       "count  116268.000000  117791.000000  104868.000000  104868.000000   \n",
       "mean      362.564936     153.216001     291.023763      86.798842   \n",
       "std       157.787662      11.336260     101.908115       2.722039   \n",
       "min       100.000000     100.000000     100.000000      10.000000   \n",
       "25%       215.000000     150.000000     204.000000      87.000000   \n",
       "50%       361.000000     150.000000     299.000000      87.000000   \n",
       "75%       512.000000     150.000000     330.000000      87.000000   \n",
       "max       600.000000     229.000000     540.000000     102.000000   \n",
       "\n",
       "              dist1        dist2  \n",
       "count  47454.000000  7615.000000  \n",
       "mean     118.072470   237.069074  \n",
       "std      374.795082   550.711561  \n",
       "min        0.000000     0.000000  \n",
       "25%        3.000000     7.000000  \n",
       "50%        8.000000    40.000000  \n",
       "75%       24.000000   206.000000  \n",
       "max    10286.000000  8787.000000  "
      ]
     },
     "metadata": {},
     "output_type": "display_data"
    },
    {
     "name": "stdout",
     "output_type": "stream",
     "text": [
      "\n",
      "📊 V columns summary (showing first 20):\n"
     ]
    },
    {
     "data": {
      "text/html": [
       "<div>\n",
       "<style scoped>\n",
       "    .dataframe tbody tr th:only-of-type {\n",
       "        vertical-align: middle;\n",
       "    }\n",
       "\n",
       "    .dataframe tbody tr th {\n",
       "        vertical-align: top;\n",
       "    }\n",
       "\n",
       "    .dataframe thead th {\n",
       "        text-align: right;\n",
       "    }\n",
       "</style>\n",
       "<table border=\"1\" class=\"dataframe\">\n",
       "  <thead>\n",
       "    <tr style=\"text-align: right;\">\n",
       "      <th></th>\n",
       "      <th>V1</th>\n",
       "      <th>V2</th>\n",
       "      <th>V3</th>\n",
       "      <th>V4</th>\n",
       "      <th>V5</th>\n",
       "      <th>V6</th>\n",
       "      <th>V7</th>\n",
       "      <th>V8</th>\n",
       "      <th>V9</th>\n",
       "      <th>V10</th>\n",
       "      <th>V11</th>\n",
       "      <th>V12</th>\n",
       "      <th>V13</th>\n",
       "      <th>V14</th>\n",
       "      <th>V15</th>\n",
       "      <th>V16</th>\n",
       "      <th>V17</th>\n",
       "      <th>V18</th>\n",
       "      <th>V19</th>\n",
       "      <th>V20</th>\n",
       "    </tr>\n",
       "  </thead>\n",
       "  <tbody>\n",
       "    <tr>\n",
       "      <th>count</th>\n",
       "      <td>61938.000000</td>\n",
       "      <td>61938.000000</td>\n",
       "      <td>61938.000000</td>\n",
       "      <td>61938.000000</td>\n",
       "      <td>61938.000000</td>\n",
       "      <td>61938.000000</td>\n",
       "      <td>61938.000000</td>\n",
       "      <td>61938.000000</td>\n",
       "      <td>61938.000000</td>\n",
       "      <td>61938.000000</td>\n",
       "      <td>61938.000000</td>\n",
       "      <td>102823.000000</td>\n",
       "      <td>102823.000000</td>\n",
       "      <td>102823.000000</td>\n",
       "      <td>102823.000000</td>\n",
       "      <td>102823.000000</td>\n",
       "      <td>102823.000000</td>\n",
       "      <td>102823.000000</td>\n",
       "      <td>102823.000000</td>\n",
       "      <td>102823.000000</td>\n",
       "    </tr>\n",
       "    <tr>\n",
       "      <th>mean</th>\n",
       "      <td>0.999887</td>\n",
       "      <td>1.045562</td>\n",
       "      <td>1.078788</td>\n",
       "      <td>0.846104</td>\n",
       "      <td>0.877087</td>\n",
       "      <td>1.045820</td>\n",
       "      <td>1.073687</td>\n",
       "      <td>1.027334</td>\n",
       "      <td>1.041154</td>\n",
       "      <td>0.461445</td>\n",
       "      <td>0.476832</td>\n",
       "      <td>0.558776</td>\n",
       "      <td>0.597318</td>\n",
       "      <td>0.999465</td>\n",
       "      <td>0.123319</td>\n",
       "      <td>0.124340</td>\n",
       "      <td>0.134775</td>\n",
       "      <td>0.136069</td>\n",
       "      <td>0.816238</td>\n",
       "      <td>0.847495</td>\n",
       "    </tr>\n",
       "    <tr>\n",
       "      <th>std</th>\n",
       "      <td>0.010630</td>\n",
       "      <td>0.241537</td>\n",
       "      <td>0.325333</td>\n",
       "      <td>0.439156</td>\n",
       "      <td>0.477758</td>\n",
       "      <td>0.239002</td>\n",
       "      <td>0.307688</td>\n",
       "      <td>0.185302</td>\n",
       "      <td>0.226236</td>\n",
       "      <td>0.521437</td>\n",
       "      <td>0.553618</td>\n",
       "      <td>0.510882</td>\n",
       "      <td>0.531514</td>\n",
       "      <td>0.023122</td>\n",
       "      <td>0.333853</td>\n",
       "      <td>0.344336</td>\n",
       "      <td>0.367414</td>\n",
       "      <td>0.374428</td>\n",
       "      <td>0.425715</td>\n",
       "      <td>0.458395</td>\n",
       "    </tr>\n",
       "    <tr>\n",
       "      <th>min</th>\n",
       "      <td>0.000000</td>\n",
       "      <td>0.000000</td>\n",
       "      <td>0.000000</td>\n",
       "      <td>0.000000</td>\n",
       "      <td>0.000000</td>\n",
       "      <td>0.000000</td>\n",
       "      <td>0.000000</td>\n",
       "      <td>0.000000</td>\n",
       "      <td>0.000000</td>\n",
       "      <td>0.000000</td>\n",
       "      <td>0.000000</td>\n",
       "      <td>0.000000</td>\n",
       "      <td>0.000000</td>\n",
       "      <td>0.000000</td>\n",
       "      <td>0.000000</td>\n",
       "      <td>0.000000</td>\n",
       "      <td>0.000000</td>\n",
       "      <td>0.000000</td>\n",
       "      <td>0.000000</td>\n",
       "      <td>0.000000</td>\n",
       "    </tr>\n",
       "    <tr>\n",
       "      <th>25%</th>\n",
       "      <td>1.000000</td>\n",
       "      <td>1.000000</td>\n",
       "      <td>1.000000</td>\n",
       "      <td>1.000000</td>\n",
       "      <td>1.000000</td>\n",
       "      <td>1.000000</td>\n",
       "      <td>1.000000</td>\n",
       "      <td>1.000000</td>\n",
       "      <td>1.000000</td>\n",
       "      <td>0.000000</td>\n",
       "      <td>0.000000</td>\n",
       "      <td>0.000000</td>\n",
       "      <td>0.000000</td>\n",
       "      <td>1.000000</td>\n",
       "      <td>0.000000</td>\n",
       "      <td>0.000000</td>\n",
       "      <td>0.000000</td>\n",
       "      <td>0.000000</td>\n",
       "      <td>1.000000</td>\n",
       "      <td>1.000000</td>\n",
       "    </tr>\n",
       "    <tr>\n",
       "      <th>50%</th>\n",
       "      <td>1.000000</td>\n",
       "      <td>1.000000</td>\n",
       "      <td>1.000000</td>\n",
       "      <td>1.000000</td>\n",
       "      <td>1.000000</td>\n",
       "      <td>1.000000</td>\n",
       "      <td>1.000000</td>\n",
       "      <td>1.000000</td>\n",
       "      <td>1.000000</td>\n",
       "      <td>0.000000</td>\n",
       "      <td>0.000000</td>\n",
       "      <td>1.000000</td>\n",
       "      <td>1.000000</td>\n",
       "      <td>1.000000</td>\n",
       "      <td>0.000000</td>\n",
       "      <td>0.000000</td>\n",
       "      <td>0.000000</td>\n",
       "      <td>0.000000</td>\n",
       "      <td>1.000000</td>\n",
       "      <td>1.000000</td>\n",
       "    </tr>\n",
       "    <tr>\n",
       "      <th>75%</th>\n",
       "      <td>1.000000</td>\n",
       "      <td>1.000000</td>\n",
       "      <td>1.000000</td>\n",
       "      <td>1.000000</td>\n",
       "      <td>1.000000</td>\n",
       "      <td>1.000000</td>\n",
       "      <td>1.000000</td>\n",
       "      <td>1.000000</td>\n",
       "      <td>1.000000</td>\n",
       "      <td>1.000000</td>\n",
       "      <td>1.000000</td>\n",
       "      <td>1.000000</td>\n",
       "      <td>1.000000</td>\n",
       "      <td>1.000000</td>\n",
       "      <td>0.000000</td>\n",
       "      <td>0.000000</td>\n",
       "      <td>0.000000</td>\n",
       "      <td>0.000000</td>\n",
       "      <td>1.000000</td>\n",
       "      <td>1.000000</td>\n",
       "    </tr>\n",
       "    <tr>\n",
       "      <th>max</th>\n",
       "      <td>1.000000</td>\n",
       "      <td>7.000000</td>\n",
       "      <td>8.000000</td>\n",
       "      <td>5.000000</td>\n",
       "      <td>6.000000</td>\n",
       "      <td>7.000000</td>\n",
       "      <td>8.000000</td>\n",
       "      <td>6.000000</td>\n",
       "      <td>7.000000</td>\n",
       "      <td>4.000000</td>\n",
       "      <td>5.000000</td>\n",
       "      <td>3.000000</td>\n",
       "      <td>6.000000</td>\n",
       "      <td>1.000000</td>\n",
       "      <td>7.000000</td>\n",
       "      <td>15.000000</td>\n",
       "      <td>15.000000</td>\n",
       "      <td>15.000000</td>\n",
       "      <td>7.000000</td>\n",
       "      <td>15.000000</td>\n",
       "    </tr>\n",
       "  </tbody>\n",
       "</table>\n",
       "</div>"
      ],
      "text/plain": [
       "                 V1            V2            V3            V4            V5  \\\n",
       "count  61938.000000  61938.000000  61938.000000  61938.000000  61938.000000   \n",
       "mean       0.999887      1.045562      1.078788      0.846104      0.877087   \n",
       "std        0.010630      0.241537      0.325333      0.439156      0.477758   \n",
       "min        0.000000      0.000000      0.000000      0.000000      0.000000   \n",
       "25%        1.000000      1.000000      1.000000      1.000000      1.000000   \n",
       "50%        1.000000      1.000000      1.000000      1.000000      1.000000   \n",
       "75%        1.000000      1.000000      1.000000      1.000000      1.000000   \n",
       "max        1.000000      7.000000      8.000000      5.000000      6.000000   \n",
       "\n",
       "                 V6            V7            V8            V9           V10  \\\n",
       "count  61938.000000  61938.000000  61938.000000  61938.000000  61938.000000   \n",
       "mean       1.045820      1.073687      1.027334      1.041154      0.461445   \n",
       "std        0.239002      0.307688      0.185302      0.226236      0.521437   \n",
       "min        0.000000      0.000000      0.000000      0.000000      0.000000   \n",
       "25%        1.000000      1.000000      1.000000      1.000000      0.000000   \n",
       "50%        1.000000      1.000000      1.000000      1.000000      0.000000   \n",
       "75%        1.000000      1.000000      1.000000      1.000000      1.000000   \n",
       "max        7.000000      8.000000      6.000000      7.000000      4.000000   \n",
       "\n",
       "                V11            V12            V13            V14  \\\n",
       "count  61938.000000  102823.000000  102823.000000  102823.000000   \n",
       "mean       0.476832       0.558776       0.597318       0.999465   \n",
       "std        0.553618       0.510882       0.531514       0.023122   \n",
       "min        0.000000       0.000000       0.000000       0.000000   \n",
       "25%        0.000000       0.000000       0.000000       1.000000   \n",
       "50%        0.000000       1.000000       1.000000       1.000000   \n",
       "75%        1.000000       1.000000       1.000000       1.000000   \n",
       "max        5.000000       3.000000       6.000000       1.000000   \n",
       "\n",
       "                 V15            V16            V17            V18  \\\n",
       "count  102823.000000  102823.000000  102823.000000  102823.000000   \n",
       "mean        0.123319       0.124340       0.134775       0.136069   \n",
       "std         0.333853       0.344336       0.367414       0.374428   \n",
       "min         0.000000       0.000000       0.000000       0.000000   \n",
       "25%         0.000000       0.000000       0.000000       0.000000   \n",
       "50%         0.000000       0.000000       0.000000       0.000000   \n",
       "75%         0.000000       0.000000       0.000000       0.000000   \n",
       "max         7.000000      15.000000      15.000000      15.000000   \n",
       "\n",
       "                 V19            V20  \n",
       "count  102823.000000  102823.000000  \n",
       "mean        0.816238       0.847495  \n",
       "std         0.425715       0.458395  \n",
       "min         0.000000       0.000000  \n",
       "25%         1.000000       1.000000  \n",
       "50%         1.000000       1.000000  \n",
       "75%         1.000000       1.000000  \n",
       "max         7.000000      15.000000  "
      ]
     },
     "metadata": {},
     "output_type": "display_data"
    }
   ],
   "source": [
    "# Display basic statistics for key columns only (avoid memory issues)\n",
    "key_cols = ['TransactionAmt', 'isFraud', 'TransactionDT', 'card1', 'card2', 'card3', 'addr1', 'addr2', 'dist1', 'dist2']\n",
    "print(\"📊 Basic statistics for key numerical columns:\")\n",
    "display(df_sampled[key_cols].describe())\n",
    "\n",
    "# For V columns, show summary stats in chunks to avoid memory issues\n",
    "print(\"\\n📊 V columns summary (showing first 20):\")\n",
    "v_cols = [col for col in df_sampled.columns if col.startswith('V')][:20]\n",
    "display(df_sampled[v_cols].describe())"
   ]
  },
  {
   "cell_type": "code",
   "execution_count": 24,
   "id": "8050360b",
   "metadata": {},
   "outputs": [
    {
     "name": "stdout",
     "output_type": "stream",
     "text": [
      "🎯 Analyzing target variable: isFraud\n"
     ]
    },
    {
     "data": {
      "text/plain": [
       "<Figure size 1000x600 with 0 Axes>"
      ]
     },
     "metadata": {},
     "output_type": "display_data"
    }
   ],
   "source": [
    "# Analyze the target variable (isFraud)\n",
    "print(\"🎯 Analyzing target variable: isFraud\")\n",
    "\n",
    "# Create countplot\n",
    "plt.figure(figsize=(10, 6))\n",
    "fraud_counts = df_sampled['isFraud'].value_counts()\n",
    "colors = ['#2E8B57', '#DC143C']  # Green for legitimate, Red for fraud\n"
   ]
  },
  {
   "cell_type": "code",
   "execution_count": 25,
   "id": "cefeb2f2",
   "metadata": {},
   "outputs": [
    {
     "data": {
      "text/plain": [
       "Text(0, 0.5, 'Number of Transactions')"
      ]
     },
     "execution_count": 25,
     "metadata": {},
     "output_type": "execute_result"
    },
    {
     "data": {
      "image/png": "[encoded data removed]",
      "text/plain": [
       "<Figure size 1200x800 with 1 Axes>"
      ]
     },
     "metadata": {},
     "output_type": "display_data"
    }
   ],
   "source": [
    "ax = sns.countplot(data=df_sampled, x='isFraud', palette=colors)\n",
    "plt.title('Distribution of Fraud vs Legitimate Transactions', fontsize=16, fontweight='bold')\n",
    "plt.xlabel('Is Fraud (0=Legitimate, 1=Fraudulent)', fontsize=12)\n",
    "plt.ylabel('Number of Transactions', fontsize=12)\n"
   ]
  },
  {
   "cell_type": "code",
   "execution_count": 26,
   "id": "8dbc95f7",
   "metadata": {},
   "outputs": [
    {
     "data": {
      "image/png": "[encoded data removed]",
      "text/plain": [
       "<Figure size 1200x800 with 1 Axes>"
      ]
     },
     "metadata": {},
     "output_type": "display_data"
    }
   ],
   "source": [
    "# Add count labels on bars\n",
    "for i, count in enumerate(fraud_counts):\n",
    "    ax.text(i, count + count*0.01, f'{count:,}', ha='center', va='bottom', fontsize=12, fontweight='bold')\n",
    "\n",
    "plt.xticks([0, 1], ['Legitimate', 'Fraudulent'])\n",
    "plt.grid(axis='y', alpha=0.3)\n",
    "plt.tight_layout()\n",
    "plt.show()"
   ]
  },
  {
   "cell_type": "code",
   "execution_count": 27,
   "id": "f1b7ea69",
   "metadata": {},
   "outputs": [],
   "source": [
    "# Print exact percentages\n",
    "total_transactions = len(df_sampled)\n",
    "legitimate_count = fraud_counts[0]\n",
    "fraud_count = fraud_counts[1]"
   ]
  },
  {
   "cell_type": "code",
   "execution_count": 28,
   "id": "72f45513",
   "metadata": {},
   "outputs": [
    {
     "name": "stdout",
     "output_type": "stream",
     "text": [
      "\n",
      "�� Fraud Distribution Analysis:\n",
      "  Total transactions: 118,108\n",
      "  Legitimate transactions: 113,975 (96.50%)\n",
      "  Fraudulent transactions: 4,133 (3.50%)\n",
      "  Fraud rate: 0.0350 (3.50%)\n"
     ]
    }
   ],
   "source": [
    "print(f\"\\n�� Fraud Distribution Analysis:\")\n",
    "print(f\"  Total transactions: {total_transactions:,}\")\n",
    "print(f\"  Legitimate transactions: {legitimate_count:,} ({legitimate_count/total_transactions*100:.2f}%)\")\n",
    "print(f\"  Fraudulent transactions: {fraud_count:,} ({fraud_count/total_transactions*100:.2f}%)\")\n",
    "print(f\"  Fraud rate: {fraud_count/total_transactions:.4f} ({fraud_count/total_transactions*100:.2f}%)\")"
   ]
  },
  {
   "cell_type": "code",
   "execution_count": 29,
   "id": "64187084",
   "metadata": {},
   "outputs": [
    {
     "name": "stdout",
     "output_type": "stream",
     "text": [
      "\n",
      "⚖️ Class Imbalance:\n",
      "  Legitimate:Fraud ratio: 27.6:1\n",
      "  ⚠️  Severe class imbalance detected!\n"
     ]
    }
   ],
   "source": [
    "# Check for class imbalance\n",
    "imbalance_ratio = legitimate_count / fraud_count\n",
    "print(f\"\\n⚖️ Class Imbalance:\")\n",
    "print(f\"  Legitimate:Fraud ratio: {imbalance_ratio:.1f}:1\")\n",
    "if imbalance_ratio > 10:\n",
    "    print(f\"  ⚠️  Severe class imbalance detected!\")\n",
    "elif imbalance_ratio > 5:\n",
    "    print(f\"  ⚠️  Moderate class imbalance detected!\")\n",
    "else:\n",
    "    print(f\"  ✅ Balanced dataset\")"
   ]
  },
  {
   "cell_type": "code",
   "execution_count": 30,
   "id": "a824a243",
   "metadata": {},
   "outputs": [
    {
     "name": "stdout",
     "output_type": "stream",
     "text": [
      "💰 Analyzing transaction amounts...\n"
     ]
    },
    {
     "data": {
      "image/png": "[encoded data removed]",
      "text/plain": [
       "<Figure size 1500x1000 with 1 Axes>"
      ]
     },
     "metadata": {},
     "output_type": "display_data"
    }
   ],
   "source": [
    "# Visualize transaction amounts\n",
    "print(\"💰 Analyzing transaction amounts...\")\n",
    "\n",
    "plt.figure(figsize=(15, 10))\n",
    "\n",
    "# Plot 1: Overall distribution\n",
    "plt.subplot(2, 2, 1)\n",
    "plt.hist(df_sampled['TransactionAmt'], bins=50, alpha=0.7, color='skyblue', edgecolor='black')\n",
    "plt.title('Distribution of Transaction Amounts', fontweight='bold')\n",
    "plt.xlabel('Transaction Amount ($)')\n",
    "plt.ylabel('Frequency')\n",
    "plt.grid(alpha=0.3)"
   ]
  },
  {
   "cell_type": "code",
   "execution_count": 31,
   "id": "8091cf82",
   "metadata": {},
   "outputs": [
    {
     "data": {
      "image/png": "[encoded data removed]",
      "text/plain": [
       "<Figure size 1200x800 with 1 Axes>"
      ]
     },
     "metadata": {},
     "output_type": "display_data"
    }
   ],
   "source": [
    "# Plot 2: Distribution by fraud status\n",
    "plt.subplot(2, 2, 2)\n",
    "legitimate_amounts = df_sampled[df_sampled['isFraud'] == 0]['TransactionAmt']\n",
    "fraud_amounts = df_sampled[df_sampled['isFraud'] == 1]['TransactionAmt']\n",
    "\n",
    "plt.hist(legitimate_amounts, bins=30, alpha=0.7, label='Legitimate', color='green')\n",
    "plt.hist(fraud_amounts, bins=30, alpha=0.7, label='Fraudulent', color='red')\n",
    "plt.title('Transaction Amounts by Fraud Status', fontweight='bold')\n",
    "plt.xlabel('Transaction Amount ($)')\n",
    "plt.ylabel('Frequency')\n",
    "plt.legend()\n",
    "plt.grid(alpha=0.3)"
   ]
  },
  {
   "cell_type": "code",
   "execution_count": 32,
   "id": "fec22197",
   "metadata": {},
   "outputs": [
    {
     "data": {
      "text/plain": [
       "Text(0.5, 0.98, '')"
      ]
     },
     "execution_count": 32,
     "metadata": {},
     "output_type": "execute_result"
    },
    {
     "data": {
      "image/png": "[encoded data removed]",
      "text/plain": [
       "<Figure size 1200x800 with 1 Axes>"
      ]
     },
     "metadata": {},
     "output_type": "display_data"
    }
   ],
   "source": [
    "# Plot 3: Box plot comparison\n",
    "plt.subplot(2, 2, 3)\n",
    "df_sampled.boxplot(column='TransactionAmt', by='isFraud', ax=plt.gca())\n",
    "plt.title('Transaction Amounts by Fraud Status (Box Plot)', fontweight='bold')\n",
    "plt.xlabel('Is Fraud')\n",
    "plt.ylabel('Transaction Amount ($)')\n",
    "plt.suptitle('')"
   ]
  },
  {
   "cell_type": "code",
   "execution_count": 33,
   "id": "6b94f9b1",
   "metadata": {},
   "outputs": [
    {
     "data": {
      "image/png": "[encoded data removed]",
      "text/plain": [
       "<Figure size 1200x800 with 1 Axes>"
      ]
     },
     "metadata": {},
     "output_type": "display_data"
    }
   ],
   "source": [
    "# Plot 4: Log-scale distribution\n",
    "plt.subplot(2, 2, 4)\n",
    "plt.hist(np.log1p(df_sampled['TransactionAmt']), bins=50, alpha=0.7, color='orange', edgecolor='black')\n",
    "plt.title('Distribution of Log(Transaction Amount + 1)', fontweight='bold')\n",
    "plt.xlabel('Log(Transaction Amount + 1)')\n",
    "plt.ylabel('Frequency')\n",
    "plt.grid(alpha=0.3)\n",
    "\n",
    "plt.tight_layout()\n",
    "plt.show()\n"
   ]
  },
  {
   "cell_type": "code",
   "execution_count": 34,
   "id": "e12a73d3",
   "metadata": {},
   "outputs": [
    {
     "name": "stdout",
     "output_type": "stream",
     "text": [
      "\n",
      "�� Transaction Amount Statistics:\n",
      "  Overall:\n",
      "    Mean: $134.74\n",
      "    Median: $68.95\n",
      "    Std: $246.78\n",
      "    Min: $0.27\n",
      "    Max: $31937.39\n",
      "\n",
      "  By Fraud Status:\n",
      "    Legitimate - Mean: $134.29, Median: $68.95\n",
      "    Fraudulent - Mean: $147.03, Median: $72.95\n"
     ]
    }
   ],
   "source": [
    "# Print amount statistics\n",
    "print(f\"\\n�� Transaction Amount Statistics:\")\n",
    "print(f\"  Overall:\")\n",
    "print(f\"    Mean: ${df_sampled['TransactionAmt'].mean():.2f}\")\n",
    "print(f\"    Median: ${df_sampled['TransactionAmt'].median():.2f}\")\n",
    "print(f\"    Std: ${df_sampled['TransactionAmt'].std():.2f}\")\n",
    "print(f\"    Min: ${df_sampled['TransactionAmt'].min():.2f}\")\n",
    "print(f\"    Max: ${df_sampled['TransactionAmt'].max():.2f}\")\n",
    "\n",
    "print(f\"\\n  By Fraud Status:\")\n",
    "print(f\"    Legitimate - Mean: ${legitimate_amounts.mean():.2f}, Median: ${legitimate_amounts.median():.2f}\")\n",
    "print(f\"    Fraudulent - Mean: ${fraud_amounts.mean():.2f}, Median: ${fraud_amounts.median():.2f}\")"
   ]
  },
  {
   "cell_type": "code",
   "execution_count": 35,
   "id": "9e5f9dfa",
   "metadata": {},
   "outputs": [
    {
     "name": "stdout",
     "output_type": "stream",
     "text": [
      "📦 Analyzing ProductCD distribution...\n"
     ]
    },
    {
     "data": {
      "text/plain": [
       "([0, 1, 2, 3, 4],\n",
       " [Text(0, 0, 'W'),\n",
       "  Text(1, 0, 'C'),\n",
       "  Text(2, 0, 'R'),\n",
       "  Text(3, 0, 'H'),\n",
       "  Text(4, 0, 'S')])"
      ]
     },
     "execution_count": 35,
     "metadata": {},
     "output_type": "execute_result"
    },
    {
     "data": {
      "image/png": "[encoded data removed]",
      "text/plain": [
       "<Figure size 1500x1000 with 1 Axes>"
      ]
     },
     "metadata": {},
     "output_type": "display_data"
    }
   ],
   "source": [
    "# Visualize ProductCD distribution\n",
    "print(\"📦 Analyzing ProductCD distribution...\")\n",
    "\n",
    "plt.figure(figsize=(15, 10))\n",
    "\n",
    "# Plot 1: Overall ProductCD distribution\n",
    "plt.subplot(2, 2, 1)\n",
    "product_counts = df_sampled['ProductCD'].value_counts()\n",
    "ax1 = sns.countplot(data=df_sampled, x='ProductCD', order=product_counts.index)\n",
    "plt.title('Distribution of Product Codes', fontweight='bold')\n",
    "plt.xlabel('Product Code')\n",
    "plt.ylabel('Count')\n",
    "plt.xticks(rotation=45)"
   ]
  },
  {
   "cell_type": "code",
   "execution_count": 36,
   "id": "79aa61b8",
   "metadata": {},
   "outputs": [
    {
     "data": {
      "text/plain": [
       "(array([0, 1, 2, 3, 4]),\n",
       " [Text(0, 0, 'C'),\n",
       "  Text(1, 0, 'H'),\n",
       "  Text(2, 0, 'R'),\n",
       "  Text(3, 0, 'S'),\n",
       "  Text(4, 0, 'W')])"
      ]
     },
     "execution_count": 36,
     "metadata": {},
     "output_type": "execute_result"
    },
    {
     "data": {
      "image/png": "[encoded data removed]",
      "text/plain": [
       "<Figure size 1200x800 with 1 Axes>"
      ]
     },
     "metadata": {},
     "output_type": "display_data"
    }
   ],
   "source": [
    "# Add count labels\n",
    "for i, count in enumerate(product_counts):\n",
    "    ax1.text(i, count + count*0.01, f'{count:,}', ha='center', va='bottom', fontsize=10)\n",
    "\n",
    "# Plot 2: ProductCD by fraud status\n",
    "plt.subplot(2, 2, 2)\n",
    "fraud_by_product = df_sampled.groupby(['ProductCD', 'isFraud']).size().unstack(fill_value=0)\n",
    "fraud_by_product.plot(kind='bar', ax=plt.gca(), color=['green', 'red'], alpha=0.8)\n",
    "plt.title('Product Codes by Fraud Status', fontweight='bold')\n",
    "plt.xlabel('Product Code')\n",
    "plt.ylabel('Count')\n",
    "plt.legend(['Legitimate', 'Fraudulent'])\n",
    "plt.xticks(rotation=45)"
   ]
  },
  {
   "cell_type": "code",
   "execution_count": 37,
   "id": "a6c7055d",
   "metadata": {},
   "outputs": [
    {
     "data": {
      "image/png": "[encoded data removed]",
      "text/plain": [
       "<Figure size 1200x800 with 1 Axes>"
      ]
     },
     "metadata": {},
     "output_type": "display_data"
    }
   ],
   "source": [
    "# Plot 3: Fraud rate by ProductCD\n",
    "plt.subplot(2, 2, 3)\n",
    "fraud_rate_by_product = df_sampled.groupby('ProductCD')['isFraud'].mean().sort_values(ascending=False)\n",
    "ax3 = fraud_rate_by_product.plot(kind='bar', color='coral', alpha=0.8)\n",
    "plt.title('Fraud Rate by Product Code', fontweight='bold')\n",
    "plt.xlabel('Product Code')\n",
    "plt.ylabel('Fraud Rate')\n",
    "plt.xticks(rotation=45)\n",
    "plt.grid(axis='y', alpha=0.3)"
   ]
  },
  {
   "cell_type": "code",
   "execution_count": 38,
   "id": "946245fb",
   "metadata": {},
   "outputs": [
    {
     "data": {
      "image/png": "[encoded data removed]",
      "text/plain": [
       "<Figure size 1200x800 with 1 Axes>"
      ]
     },
     "metadata": {},
     "output_type": "display_data"
    }
   ],
   "source": [
    "# Add percentage labels\n",
    "for i, rate in enumerate(fraud_rate_by_product):\n",
    "    ax3.text(i, rate + 0.001, f'{rate:.3f}', ha='center', va='bottom', fontsize=10)\n",
    "\n",
    "# Plot 4: Transaction amounts by ProductCD\n",
    "plt.subplot(2, 2, 4)\n",
    "df_sampled.boxplot(column='TransactionAmt', by='ProductCD', ax=plt.gca())\n",
    "plt.title('Transaction Amounts by Product Code', fontweight='bold')\n",
    "plt.xlabel('Product Code')\n",
    "plt.ylabel('Transaction Amount ($)')\n",
    "plt.xticks(rotation=45)\n",
    "plt.suptitle('')  # Remove default title\n",
    "\n",
    "plt.tight_layout()\n",
    "plt.show()\n"
   ]
  },
  {
   "cell_type": "code",
   "execution_count": 39,
   "id": "624c4257",
   "metadata": {},
   "outputs": [
    {
     "name": "stdout",
     "output_type": "stream",
     "text": [
      "\n",
      "�� ProductCD Analysis:\n",
      "  Unique product codes: 5\n",
      "  Most common: W (87,782 transactions, 74.3%)\n",
      "  Least common: S (2,336 transactions, 2.0%)\n",
      "\n",
      "  Fraud rates by product:\n",
      "    C: 0.1166 (11.66%) - 13,788 transactions\n",
      "    S: 0.0625 (6.25%) - 2,336 transactions\n",
      "    H: 0.0479 (4.79%) - 6,682 transactions\n",
      "    R: 0.0378 (3.78%) - 7,520 transactions\n",
      "    W: 0.0202 (2.02%) - 87,782 transactions\n"
     ]
    }
   ],
   "source": [
    "# Print ProductCD statistics\n",
    "print(f\"\\n�� ProductCD Analysis:\")\n",
    "print(f\"  Unique product codes: {df_sampled['ProductCD'].nunique()}\")\n",
    "print(f\"  Most common: {product_counts.index[0]} ({product_counts.iloc[0]:,} transactions, {product_counts.iloc[0]/len(df_sampled)*100:.1f}%)\")\n",
    "print(f\"  Least common: {product_counts.index[-1]} ({product_counts.iloc[-1]:,} transactions, {product_counts.iloc[-1]/len(df_sampled)*100:.1f}%)\")\n",
    "\n",
    "print(f\"\\n  Fraud rates by product:\")\n",
    "for product, rate in fraud_rate_by_product.items():\n",
    "    count = product_counts[product]\n",
    "    print(f\"    {product}: {rate:.4f} ({rate*100:.2f}%) - {count:,} transactions\")"
   ]
  },
  {
   "cell_type": "code",
   "execution_count": 40,
   "id": "fabc845b",
   "metadata": {},
   "outputs": [
    {
     "name": "stdout",
     "output_type": "stream",
     "text": [
      "💳 Analyzing card4 (card type) distribution...\n"
     ]
    },
    {
     "data": {
      "text/plain": [
       "([0, 1, 2, 3],\n",
       " [Text(0, 0, 'visa'),\n",
       "  Text(1, 0, 'mastercard'),\n",
       "  Text(2, 0, 'american express'),\n",
       "  Text(3, 0, 'discover')])"
      ]
     },
     "execution_count": 40,
     "metadata": {},
     "output_type": "execute_result"
    },
    {
     "data": {
      "image/png": "[encoded data removed]",
      "text/plain": [
       "<Figure size 1500x1000 with 1 Axes>"
      ]
     },
     "metadata": {},
     "output_type": "display_data"
    }
   ],
   "source": [
    "# Visualize card4 (card type) distribution\n",
    "print(\"💳 Analyzing card4 (card type) distribution...\")\n",
    "\n",
    "plt.figure(figsize=(15, 10))\n",
    "\n",
    "# Plot 1: Overall card4 distribution\n",
    "plt.subplot(2, 2, 1)\n",
    "card_counts = df_sampled['card4'].value_counts()\n",
    "ax1 = sns.countplot(data=df_sampled, x='card4', order=card_counts.index)\n",
    "plt.title('Distribution of Card Types', fontweight='bold')\n",
    "plt.xlabel('Card Type')\n",
    "plt.ylabel('Count')\n",
    "plt.xticks(rotation=45)\n"
   ]
  },
  {
   "cell_type": "code",
   "execution_count": 41,
   "id": "0f5a5b09",
   "metadata": {},
   "outputs": [
    {
     "data": {
      "text/plain": [
       "(array([0, 1, 2, 3]),\n",
       " [Text(0, 0, 'american express'),\n",
       "  Text(1, 0, 'discover'),\n",
       "  Text(2, 0, 'mastercard'),\n",
       "  Text(3, 0, 'visa')])"
      ]
     },
     "execution_count": 41,
     "metadata": {},
     "output_type": "execute_result"
    },
    {
     "data": {
      "image/png": "[encoded data removed]",
      "text/plain": [
       "<Figure size 1200x800 with 1 Axes>"
      ]
     },
     "metadata": {},
     "output_type": "display_data"
    }
   ],
   "source": [
    "# Add count labels\n",
    "for i, count in enumerate(card_counts):\n",
    "    ax1.text(i, count + count*0.01, f'{count:,}', ha='center', va='bottom', fontsize=10)\n",
    "\n",
    "# Plot 2: Card type by fraud status\n",
    "plt.subplot(2, 2, 2)\n",
    "fraud_by_card = df_sampled.groupby(['card4', 'isFraud']).size().unstack(fill_value=0)\n",
    "fraud_by_card.plot(kind='bar', ax=plt.gca(), color=['green', 'red'], alpha=0.8)\n",
    "plt.title('Card Types by Fraud Status', fontweight='bold')\n",
    "plt.xlabel('Card Type')\n",
    "plt.ylabel('Count')\n",
    "plt.legend(['Legitimate', 'Fraudulent'])\n",
    "plt.xticks(rotation=45)"
   ]
  },
  {
   "cell_type": "code",
   "execution_count": 42,
   "id": "0af46834",
   "metadata": {},
   "outputs": [
    {
     "data": {
      "image/png": "[encoded data removed]",
      "text/plain": [
       "<Figure size 1200x800 with 1 Axes>"
      ]
     },
     "metadata": {},
     "output_type": "display_data"
    }
   ],
   "source": [
    "# Plot 3: Fraud rate by card type\n",
    "plt.subplot(2, 2, 3)\n",
    "fraud_rate_by_card = df_sampled.groupby('card4')['isFraud'].mean().sort_values(ascending=False)\n",
    "ax3 = fraud_rate_by_card.plot(kind='bar', color='purple', alpha=0.8)\n",
    "plt.title('Fraud Rate by Card Type', fontweight='bold')\n",
    "plt.xlabel('Card Type')\n",
    "plt.ylabel('Fraud Rate')\n",
    "plt.xticks(rotation=45)\n",
    "plt.grid(axis='y', alpha=0.3)"
   ]
  },
  {
   "cell_type": "code",
   "execution_count": 43,
   "id": "027afeb0",
   "metadata": {},
   "outputs": [
    {
     "data": {
      "image/png": "[encoded data removed]",
      "text/plain": [
       "<Figure size 1200x800 with 1 Axes>"
      ]
     },
     "metadata": {},
     "output_type": "display_data"
    }
   ],
   "source": [
    "# Add percentage labels\n",
    "for i, rate in enumerate(fraud_rate_by_card):\n",
    "    ax3.text(i, rate + 0.001, f'{rate:.3f}', ha='center', va='bottom', fontsize=10)\n",
    "\n",
    "# Plot 4: Transaction amounts by card type\n",
    "plt.subplot(2, 2, 4)\n",
    "df_sampled.boxplot(column='TransactionAmt', by='card4', ax=plt.gca())\n",
    "plt.title('Transaction Amounts by Card Type', fontweight='bold')\n",
    "plt.xlabel('Card Type')\n",
    "plt.ylabel('Transaction Amount ($)')\n",
    "plt.xticks(rotation=45)\n",
    "plt.suptitle('')  # Remove default title\n",
    "\n",
    "plt.tight_layout()\n",
    "plt.show()"
   ]
  },
  {
   "cell_type": "code",
   "execution_count": 44,
   "id": "a0482191",
   "metadata": {},
   "outputs": [
    {
     "name": "stdout",
     "output_type": "stream",
     "text": [
      "\n",
      "�� Card4 Analysis:\n",
      "  Unique card types: 4\n",
      "  Most common: visa (77,013 transactions, 65.2%)\n",
      "  Least common: discover (1,283 transactions, 1.1%)\n",
      "\n",
      "  Fraud rates by card type:\n",
      "    discover: 0.0717 (7.17%) - 1,283 transactions\n",
      "    mastercard: 0.0348 (3.48%) - 37,826 transactions\n",
      "    visa: 0.0347 (3.47%) - 77,013 transactions\n",
      "    american express: 0.0234 (2.34%) - 1,669 transactions\n"
     ]
    }
   ],
   "source": [
    "# Print card4 statistics\n",
    "print(f\"\\n�� Card4 Analysis:\")\n",
    "print(f\"  Unique card types: {df_sampled['card4'].nunique()}\")\n",
    "print(f\"  Most common: {card_counts.index[0]} ({card_counts.iloc[0]:,} transactions, {card_counts.iloc[0]/len(df_sampled)*100:.1f}%)\")\n",
    "print(f\"  Least common: {card_counts.index[-1]} ({card_counts.iloc[-1]:,} transactions, {card_counts.iloc[-1]/len(df_sampled)*100:.1f}%)\")\n",
    "\n",
    "print(f\"\\n  Fraud rates by card type:\")\n",
    "for card, rate in fraud_rate_by_card.items():\n",
    "    count = card_counts[card]\n",
    "    print(f\"    {card}: {rate:.4f} ({rate*100:.2f}%) - {count:,} transactions\")"
   ]
  },
  {
   "cell_type": "code",
   "execution_count": 45,
   "id": "2ca3b6c5",
   "metadata": {},
   "outputs": [
    {
     "name": "stdout",
     "output_type": "stream",
     "text": [
      "🔍 Analyzing missing values...\n"
     ]
    }
   ],
   "source": [
    "# Analyze missing values\n",
    "print(\"🔍 Analyzing missing values...\")\n",
    "\n",
    "# Calculate missing values for each column\n",
    "missing_data = df_sampled.isnull().sum()\n",
    "missing_percent = (missing_data / len(df_sampled)) * 100"
   ]
  },
  {
   "cell_type": "code",
   "execution_count": 46,
   "id": "3ece92cc",
   "metadata": {},
   "outputs": [],
   "source": [
    "# Create missing value summary\n",
    "missing_summary = pd.DataFrame({\n",
    "    'Missing_Count': missing_data,\n",
    "    'Missing_Percent': missing_percent\n",
    "}).sort_values('Missing_Percent', ascending=False)\n",
    "\n",
    "# Filter columns with missing values\n",
    "columns_with_missing = missing_summary[missing_summary['Missing_Count'] > 0]"
   ]
  },
  {
   "cell_type": "code",
   "execution_count": 47,
   "id": "9abc65a3",
   "metadata": {},
   "outputs": [
    {
     "name": "stdout",
     "output_type": "stream",
     "text": [
      "\n",
      "📊 Missing Value Summary:\n",
      "  Total columns: 434\n",
      "  Columns with missing values: 414\n",
      "  Columns without missing values: 20\n",
      "\n",
      "🔍 Top 20 columns with most missing values:\n"
     ]
    },
    {
     "data": {
      "text/html": [
       "<div>\n",
       "<style scoped>\n",
       "    .dataframe tbody tr th:only-of-type {\n",
       "        vertical-align: middle;\n",
       "    }\n",
       "\n",
       "    .dataframe tbody tr th {\n",
       "        vertical-align: top;\n",
       "    }\n",
       "\n",
       "    .dataframe thead th {\n",
       "        text-align: right;\n",
       "    }\n",
       "</style>\n",
       "<table border=\"1\" class=\"dataframe\">\n",
       "  <thead>\n",
       "    <tr style=\"text-align: right;\">\n",
       "      <th></th>\n",
       "      <th>Missing_Count</th>\n",
       "      <th>Missing_Percent</th>\n",
       "    </tr>\n",
       "  </thead>\n",
       "  <tbody>\n",
       "    <tr>\n",
       "      <th>id_24</th>\n",
       "      <td>117149</td>\n",
       "      <td>99.188031</td>\n",
       "    </tr>\n",
       "    <tr>\n",
       "      <th>id_07</th>\n",
       "      <td>117078</td>\n",
       "      <td>99.127917</td>\n",
       "    </tr>\n",
       "    <tr>\n",
       "      <th>id_25</th>\n",
       "      <td>117078</td>\n",
       "      <td>99.127917</td>\n",
       "    </tr>\n",
       "    <tr>\n",
       "      <th>id_08</th>\n",
       "      <td>117078</td>\n",
       "      <td>99.127917</td>\n",
       "    </tr>\n",
       "    <tr>\n",
       "      <th>id_21</th>\n",
       "      <td>117076</td>\n",
       "      <td>99.126223</td>\n",
       "    </tr>\n",
       "    <tr>\n",
       "      <th>id_26</th>\n",
       "      <td>117076</td>\n",
       "      <td>99.126223</td>\n",
       "    </tr>\n",
       "    <tr>\n",
       "      <th>id_27</th>\n",
       "      <td>117074</td>\n",
       "      <td>99.124530</td>\n",
       "    </tr>\n",
       "    <tr>\n",
       "      <th>id_23</th>\n",
       "      <td>117074</td>\n",
       "      <td>99.124530</td>\n",
       "    </tr>\n",
       "    <tr>\n",
       "      <th>id_22</th>\n",
       "      <td>117074</td>\n",
       "      <td>99.124530</td>\n",
       "    </tr>\n",
       "    <tr>\n",
       "      <th>dist2</th>\n",
       "      <td>110493</td>\n",
       "      <td>93.552511</td>\n",
       "    </tr>\n",
       "    <tr>\n",
       "      <th>D7</th>\n",
       "      <td>110302</td>\n",
       "      <td>93.390795</td>\n",
       "    </tr>\n",
       "    <tr>\n",
       "      <th>id_18</th>\n",
       "      <td>108938</td>\n",
       "      <td>92.235920</td>\n",
       "    </tr>\n",
       "    <tr>\n",
       "      <th>D14</th>\n",
       "      <td>105714</td>\n",
       "      <td>89.506215</td>\n",
       "    </tr>\n",
       "    <tr>\n",
       "      <th>D13</th>\n",
       "      <td>105712</td>\n",
       "      <td>89.504521</td>\n",
       "    </tr>\n",
       "    <tr>\n",
       "      <th>D12</th>\n",
       "      <td>105070</td>\n",
       "      <td>88.960951</td>\n",
       "    </tr>\n",
       "    <tr>\n",
       "      <th>id_04</th>\n",
       "      <td>104768</td>\n",
       "      <td>88.705253</td>\n",
       "    </tr>\n",
       "    <tr>\n",
       "      <th>id_03</th>\n",
       "      <td>104768</td>\n",
       "      <td>88.705253</td>\n",
       "    </tr>\n",
       "    <tr>\n",
       "      <th>D6</th>\n",
       "      <td>103391</td>\n",
       "      <td>87.539371</td>\n",
       "    </tr>\n",
       "    <tr>\n",
       "      <th>id_33</th>\n",
       "      <td>103373</td>\n",
       "      <td>87.524130</td>\n",
       "    </tr>\n",
       "    <tr>\n",
       "      <th>id_09</th>\n",
       "      <td>102988</td>\n",
       "      <td>87.198158</td>\n",
       "    </tr>\n",
       "  </tbody>\n",
       "</table>\n",
       "</div>"
      ],
      "text/plain": [
       "       Missing_Count  Missing_Percent\n",
       "id_24         117149        99.188031\n",
       "id_07         117078        99.127917\n",
       "id_25         117078        99.127917\n",
       "id_08         117078        99.127917\n",
       "id_21         117076        99.126223\n",
       "id_26         117076        99.126223\n",
       "id_27         117074        99.124530\n",
       "id_23         117074        99.124530\n",
       "id_22         117074        99.124530\n",
       "dist2         110493        93.552511\n",
       "D7            110302        93.390795\n",
       "id_18         108938        92.235920\n",
       "D14           105714        89.506215\n",
       "D13           105712        89.504521\n",
       "D12           105070        88.960951\n",
       "id_04         104768        88.705253\n",
       "id_03         104768        88.705253\n",
       "D6            103391        87.539371\n",
       "id_33         103373        87.524130\n",
       "id_09         102988        87.198158"
      ]
     },
     "metadata": {},
     "output_type": "display_data"
    }
   ],
   "source": [
    "print(f\"\\n📊 Missing Value Summary:\")\n",
    "print(f\"  Total columns: {len(df_sampled.columns)}\")\n",
    "print(f\"  Columns with missing values: {len(columns_with_missing)}\")\n",
    "print(f\"  Columns without missing values: {len(df_sampled.columns) - len(columns_with_missing)}\")\n",
    "\n",
    "# Display top 20 columns with most missing values\n",
    "print(f\"\\n🔍 Top 20 columns with most missing values:\")\n",
    "display(columns_with_missing.head(20))"
   ]
  },
  {
   "cell_type": "code",
   "execution_count": 48,
   "id": "e6328796",
   "metadata": {},
   "outputs": [
    {
     "data": {
      "text/plain": [
       "Text(158.08159722222223, 0.5, 'Columns')"
      ]
     },
     "execution_count": 48,
     "metadata": {},
     "output_type": "execute_result"
    },
    {
     "data": {
      "image/png": "[encoded data removed]",
      "text/plain": [
       "<Figure size 1500x1000 with 2 Axes>"
      ]
     },
     "metadata": {},
     "output_type": "display_data"
    }
   ],
   "source": [
    "# Visualize missing values\n",
    "plt.figure(figsize=(15, 10))\n",
    "\n",
    "# Plot 1: Missing value heatmap for top 30 columns\n",
    "plt.subplot(2, 1, 1)\n",
    "top_missing_cols = columns_with_missing.head(30).index.tolist()\n",
    "missing_subset = df_sampled[top_missing_cols].isnull()\n",
    "\n",
    "sns.heatmap(missing_subset.T, cbar=True, cmap='viridis', \n",
    "            yticklabels=top_missing_cols, xticklabels=False)\n",
    "plt.title('Missing Value Pattern (Top 30 Columns)', fontweight='bold')\n",
    "plt.xlabel('Sample Index')\n",
    "plt.ylabel('Columns')"
   ]
  },
  {
   "cell_type": "code",
   "execution_count": 49,
   "id": "1bb53a5d",
   "metadata": {},
   "outputs": [
    {
     "data": {
      "image/png": "[encoded data removed]",
      "text/plain": [
       "<Figure size 1200x800 with 1 Axes>"
      ]
     },
     "metadata": {},
     "output_type": "display_data"
    }
   ],
   "source": [
    "# Plot 2: Missing value percentages\n",
    "plt.subplot(2, 1, 2)\n",
    "top_20_missing = columns_with_missing.head(20)\n",
    "bars = plt.barh(range(len(top_20_missing)), top_20_missing['Missing_Percent'], \n",
    "                color='coral', alpha=0.8)\n",
    "plt.yticks(range(len(top_20_missing)), top_20_missing.index)\n",
    "plt.xlabel('Missing Percentage (%)')\n",
    "plt.title('Missing Value Percentages (Top 20 Columns)', fontweight='bold')\n",
    "plt.grid(axis='x', alpha=0.3)"
   ]
  },
  {
   "cell_type": "code",
   "execution_count": 52,
   "id": "67d7aea4",
   "metadata": {},
   "outputs": [
    {
     "name": "stdout",
     "output_type": "stream",
     "text": [
      "✅ Plot saved as 'missing_values_plot.png'\n"
     ]
    }
   ],
   "source": [
    "# Add percentage labels\n",
    "for i, (bar, pct) in enumerate(zip(bars, top_20_missing['Missing_Percent'])):\n",
    "    plt.text(pct + 0.5, i, f'{pct:.1f}%', va='center', fontsize=10)\n",
    "\n",
    "plt.tight_layout()\n",
    "# Reduce figure size and save instead of displaying\n",
    "plt.gcf().set_size_inches(8, 5)\n",
    "plt.savefig('missing_values_plot.png', dpi=80, bbox_inches='tight')\n",
    "plt.close()  # Free memory immediately\n",
    "print(\"✅ Plot saved as 'missing_values_plot.png'\")"
   ]
  },
  {
   "cell_type": "code",
   "execution_count": 53,
   "id": "6cb58c61",
   "metadata": {},
   "outputs": [
    {
     "name": "stdout",
     "output_type": "stream",
     "text": [
      "\n",
      "🔍 Missing values by fraud status:\n",
      "\n",
      "  id_24:\n",
      "    Legitimate: 113,086 missing (99.2%)\n",
      "    Fraudulent: 4,063 missing (98.3%)\n",
      "\n",
      "  id_07:\n",
      "    Legitimate: 113,018 missing (99.2%)\n",
      "    Fraudulent: 4,060 missing (98.2%)\n",
      "\n",
      "  id_25:\n",
      "    Legitimate: 113,018 missing (99.2%)\n",
      "    Fraudulent: 4,060 missing (98.2%)\n",
      "\n",
      "  id_08:\n",
      "    Legitimate: 113,018 missing (99.2%)\n",
      "    Fraudulent: 4,060 missing (98.2%)\n",
      "\n",
      "  id_21:\n",
      "    Legitimate: 113,016 missing (99.2%)\n",
      "    Fraudulent: 4,060 missing (98.2%)\n",
      "\n",
      "  id_26:\n",
      "    Legitimate: 113,016 missing (99.2%)\n",
      "    Fraudulent: 4,060 missing (98.2%)\n",
      "\n",
      "  id_27:\n",
      "    Legitimate: 113,014 missing (99.2%)\n",
      "    Fraudulent: 4,060 missing (98.2%)\n",
      "\n",
      "  id_23:\n",
      "    Legitimate: 113,014 missing (99.2%)\n",
      "    Fraudulent: 4,060 missing (98.2%)\n",
      "\n",
      "  id_22:\n",
      "    Legitimate: 113,014 missing (99.2%)\n",
      "    Fraudulent: 4,060 missing (98.2%)\n",
      "\n",
      "  dist2:\n",
      "    Legitimate: 107,137 missing (94.0%)\n",
      "    Fraudulent: 3,356 missing (81.2%)\n"
     ]
    }
   ],
   "source": [
    "# Analyze missing values by fraud status\n",
    "print(f\"\\n🔍 Missing values by fraud status:\")\n",
    "for col in columns_with_missing.head(10).index:\n",
    "    missing_by_fraud = df_sampled.groupby('isFraud')[col].apply(lambda x: x.isnull().sum())\n",
    "    total_by_fraud = df_sampled.groupby('isFraud')[col].size()\n",
    "    missing_rate_by_fraud = (missing_by_fraud / total_by_fraud) * 100\n",
    "    \n",
    "    print(f\"\\n  {col}:\")\n",
    "    print(f\"    Legitimate: {missing_by_fraud[0]:,} missing ({missing_rate_by_fraud[0]:.1f}%)\")\n",
    "    print(f\"    Fraudulent: {missing_by_fraud[1]:,} missing ({missing_rate_by_fraud[1]:.1f}%)\")"
   ]
  },
  {
   "cell_type": "code",
   "execution_count": 54,
   "id": "9ec231e5",
   "metadata": {},
   "outputs": [
    {
     "name": "stdout",
     "output_type": "stream",
     "text": [
      "🔍 Assessing data quality...\n",
      "\n",
      "�� Duplicate Analysis:\n",
      "  Duplicate TransactionIDs: 0\n",
      "  ✅ No duplicate transactions\n"
     ]
    }
   ],
   "source": [
    "# Data quality assessment\n",
    "print(\"🔍 Assessing data quality...\")\n",
    "\n",
    "# Check for duplicate transactions\n",
    "duplicate_transactions = df_sampled.duplicated(subset=['TransactionID']).sum()\n",
    "print(f\"\\n�� Duplicate Analysis:\")\n",
    "print(f\"  Duplicate TransactionIDs: {duplicate_transactions}\")\n",
    "if duplicate_transactions > 0:\n",
    "    print(f\"  ⚠️  Duplicate transactions found!\")\n",
    "else:\n",
    "    print(f\"  ✅ No duplicate transactions\")"
   ]
  },
  {
   "cell_type": "code",
   "execution_count": 55,
   "id": "c117b6b6",
   "metadata": {},
   "outputs": [
    {
     "name": "stdout",
     "output_type": "stream",
     "text": [
      "\n",
      "📊 Constant Columns:\n",
      "  ✅ No constant columns found\n"
     ]
    }
   ],
   "source": [
    "# Check for constant columns\n",
    "constant_columns = []\n",
    "for col in df_sampled.columns:\n",
    "    if df_sampled[col].nunique() == 1:\n",
    "        constant_columns.append(col)\n",
    "\n",
    "print(f\"\\n📊 Constant Columns:\")\n",
    "if constant_columns:\n",
    "    print(f\"  Found {len(constant_columns)} constant columns:\")\n",
    "    for col in constant_columns:\n",
    "        value = df_sampled[col].iloc[0]\n",
    "        print(f\"    {col}: {value}\")\n",
    "else:\n",
    "    print(f\"  ✅ No constant columns found\")"
   ]
  },
  {
   "cell_type": "code",
   "execution_count": 56,
   "id": "2188d797",
   "metadata": {},
   "outputs": [
    {
     "name": "stdout",
     "output_type": "stream",
     "text": [
      "\n",
      "High Cardinality Categorical Columns:\n",
      "  Found 3 columns with >100 unique values:\n",
      "    DeviceInfo: 1,071 unique values\n",
      "    id_33: 148 unique values\n",
      "    id_31: 114 unique values\n"
     ]
    }
   ],
   "source": [
    "# Check for high cardinality categorical columns\n",
    "categorical_cols = df_sampled.select_dtypes(include=['object']).columns\n",
    "high_cardinality = []\n",
    "for col in categorical_cols:\n",
    "    unique_count = df_sampled[col].nunique()\n",
    "    if unique_count > 100:\n",
    "        high_cardinality.append((col, unique_count))\n",
    "\n",
    "print(f\"\\nHigh Cardinality Categorical Columns:\")\n",
    "if high_cardinality:\n",
    "    print(f\"  Found {len(high_cardinality)} columns with >100 unique values:\")\n",
    "    for col, count in sorted(high_cardinality, key=lambda x: x[1], reverse=True)[:10]:\n",
    "        print(f\"    {col}: {count:,} unique values\")\n",
    "else:\n",
    "    print(f\"  ✅ No extremely high cardinality columns\")"
   ]
  },
  {
   "cell_type": "code",
   "execution_count": 57,
   "id": "f4b7fa7c",
   "metadata": {},
   "outputs": [
    {
     "name": "stdout",
     "output_type": "stream",
     "text": [
      "\n",
      "📊 Data Types:\n",
      "  float64: 399 columns\n",
      "  object: 31 columns\n",
      "  int64: 4 columns\n"
     ]
    }
   ],
   "source": [
    "# Check data types\n",
    "print(f\"\\n📊 Data Types:\")\n",
    "dtype_counts = df_sampled.dtypes.value_counts()\n",
    "for dtype, count in dtype_counts.items():\n",
    "    print(f\"  {dtype}: {count} columns\")"
   ]
  },
  {
   "cell_type": "code",
   "execution_count": 58,
   "id": "e85f25c9",
   "metadata": {},
   "outputs": [
    {
     "name": "stdout",
     "output_type": "stream",
     "text": [
      "💾 Saving processed data...\n"
     ]
    }
   ],
   "source": [
    "# Save processed data\n",
    "print(\"💾 Saving processed data...\")"
   ]
  },
  {
   "cell_type": "code",
   "execution_count": 59,
   "id": "1b1f806f",
   "metadata": {},
   "outputs": [],
   "source": [
    "# Create output directory if it doesn't exist\n",
    "output_dir = Path('../app/artifacts')\n",
    "output_dir.mkdir(parents=True, exist_ok=True)"
   ]
  },
  {
   "cell_type": "code",
   "execution_count": 60,
   "id": "ca90546a",
   "metadata": {},
   "outputs": [
    {
     "name": "stdout",
     "output_type": "stream",
     "text": [
      "✅ Processed data saved to: ..\\app\\artifacts\\eda_processed_data.csv\n",
      "�� File size: 138.73 MB\n"
     ]
    }
   ],
   "source": [
    "# Save downsampled data\n",
    "output_path = output_dir / 'eda_processed_data.csv'\n",
    "df_sampled.to_csv(output_path, index=False)\n",
    "print(f\"✅ Processed data saved to: {output_path}\")\n",
    "print(f\"�� File size: {output_path.stat().st_size / 1024**2:.2f} MB\")\n"
   ]
  },
  {
   "cell_type": "code",
   "execution_count": 61,
   "id": "ff8cc733",
   "metadata": {},
   "outputs": [
    {
     "name": "stdout",
     "output_type": "stream",
     "text": [
      "✅ Missing value summary saved to: ..\\app\\artifacts\\missing_value_summary.csv\n"
     ]
    }
   ],
   "source": [
    "# Save missing value summary\n",
    "missing_summary_path = output_dir / 'missing_value_summary.csv'\n",
    "missing_summary.to_csv(missing_summary_path)\n",
    "print(f\"✅ Missing value summary saved to: {missing_summary_path}\")\n"
   ]
  },
  {
   "cell_type": "code",
   "execution_count": 62,
   "id": "2b04b1ee",
   "metadata": {},
   "outputs": [],
   "source": [
    "# Save fraud rate summaries\n",
    "fraud_summary = pd.DataFrame({\n",
    "    'ProductCD': fraud_rate_by_product.index,\n",
    "    'Product_Fraud_Rate': fraud_rate_by_product.values,\n",
    "    'Product_Count': [product_counts[prod] for prod in fraud_rate_by_product.index]\n",
    "})"
   ]
  },
  {
   "cell_type": "code",
   "execution_count": 63,
   "id": "0f34e4d1",
   "metadata": {},
   "outputs": [],
   "source": [
    "card_fraud_summary = pd.DataFrame({\n",
    "    'CardType': fraud_rate_by_card.index,\n",
    "    'Card_Fraud_Rate': fraud_rate_by_card.values,\n",
    "    'Card_Count': [card_counts[card] for card in fraud_rate_by_card.index]\n",
    "})"
   ]
  },
  {
   "cell_type": "code",
   "execution_count": 64,
   "id": "2c44f55b",
   "metadata": {},
   "outputs": [
    {
     "name": "stdout",
     "output_type": "stream",
     "text": [
      "✅ Fraud rate summaries saved to: ..\\app\\artifacts\\fraud_rate_summaries.xlsx\n"
     ]
    }
   ],
   "source": [
    "fraud_summary_path = output_dir / 'fraud_rate_summaries.xlsx'\n",
    "with pd.ExcelWriter(fraud_summary_path, engine='openpyxl') as writer:\n",
    "    fraud_summary.to_excel(writer, sheet_name='Product_Fraud_Rates', index=False)\n",
    "    card_fraud_summary.to_excel(writer, sheet_name='Card_Fraud_Rates', index=False)\n",
    "\n",
    "print(f\"✅ Fraud rate summaries saved to: {fraud_summary_path}\")"
   ]
  },
  {
   "cell_type": "markdown",
   "id": "71a4d1c2",
   "metadata": {},
   "source": [
    "## Summary and Next Steps\n",
    "\n",
    "�� **Exploratory Data Analysis Complete!**\n",
    "\n",
    "### Key Findings:\n",
    "\n",
    "✅ **Dataset Overview**: Successfully loaded and merged IEEE-CIS transaction and identity data\n",
    "✅ **Stratified Sampling**: Downsampled to 20% while preserving fraud rate distribution\n",
    "✅ **Target Analysis**: Identified class imbalance (fraud rate: ~3.5%)\n",
    "✅ **Feature Exploration**: Analyzed transaction amounts, product codes, and card types\n",
    "✅ **Data Quality**: Assessed missing values and identified potential issues\n",
    "✅ **Artifacts Saved**: Processed data and summaries saved for next steps\n",
    "\n",
    "### Next Steps:\n",
    "\n",
    "1. **Feature Engineering**: Create derived features and handle missing values\n",
    "2. **Baseline Model**: Train XGBoost on tabular features only\n",
    "3. **Graph Features**: Build transaction graphs and compute NetworkX metrics\n",
    "4. **Hybrid Model**: Combine tabular and graph features for improved performance\n",
    "\n",
    "The dataset is now ready for the next phase of the GraphGuard pipeline! 🚀"
   ]
  }
 ],
 "metadata": {
  "kernelspec": {
   "display_name": ".venv",
   "language": "python",
   "name": "python3"
  },
  "language_info": {
   "codemirror_mode": {
    "name": "ipython",
    "version": 3
   },
   "file_extension": ".py",
   "mimetype": "text/x-python",
   "name": "python",
   "nbconvert_exporter": "python",
   "pygments_lexer": "ipython3",
   "version": "3.13.7"
  }
 },
 "nbformat": 4,
 "nbformat_minor": 5
}
