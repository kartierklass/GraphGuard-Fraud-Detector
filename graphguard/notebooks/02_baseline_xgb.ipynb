{
 "cells": [
  {
   "cell_type": "code",
   "execution_count": 2,
   "id": "bbfe8156",
   "metadata": {},
   "outputs": [
    {
     "name": "stdout",
     "output_type": "stream",
     "text": [
      "✅ Libraries imported successfully\n"
     ]
    }
   ],
   "source": [
    "# Import Libraries\n",
    "import pandas as pd\n",
    "import numpy as np\n",
    "import xgboost as xgb\n",
    "from sklearn.model_selection import train_test_split\n",
    "from sklearn.metrics import roc_auc_score, classification_report, confusion_matrix\n",
    "import joblib\n",
    "import os\n",
    "from pathlib import Path\n",
    "import warnings\n",
    "warnings.filterwarnings('ignore')\n",
    "\n",
    "print(\"✅ Libraries imported successfully\")"
   ]
  },
  {
   "cell_type": "code",
   "execution_count": 3,
   "id": "49266fd9",
   "metadata": {},
   "outputs": [
    {
     "name": "stdout",
     "output_type": "stream",
     "text": [
      "📁 Data path: ..\\app\\artifacts\\eda_processed_data.csv\n",
      "📁 Output directory: ..\\app\\artifacts\n"
     ]
    }
   ],
   "source": [
    "# Set up paths\n",
    "data_path = Path(\"../app/artifacts/eda_processed_data.csv\")\n",
    "output_dir = Path(\"../app/artifacts\")\n",
    "\n",
    "# Create output directory if it doesn't exist\n",
    "output_dir.mkdir(parents=True, exist_ok=True)\n",
    "\n",
    "print(f\"📁 Data path: {data_path}\")\n",
    "print(f\"📁 Output directory: {output_dir}\")"
   ]
  },
  {
   "cell_type": "code",
   "execution_count": 4,
   "id": "dee615f2",
   "metadata": {},
   "outputs": [
    {
     "name": "stdout",
     "output_type": "stream",
     "text": [
      "📊 Loading processed data...\n",
      "✅ Data loaded successfully! Shape: (118108, 434)\n",
      "📊 Memory usage: 502.80 MB\n"
     ]
    }
   ],
   "source": [
    "# Load Data\n",
    "print(\"📊 Loading processed data...\")\n",
    "df = pd.read_csv(data_path)\n",
    "print(f\"✅ Data loaded successfully! Shape: {df.shape}\")\n",
    "print(f\"📊 Memory usage: {df.memory_usage(deep=True).sum() / 1024**2:.2f} MB\")\n"
   ]
  },
  {
   "cell_type": "code",
   "execution_count": 5,
   "id": "4fb76ced",
   "metadata": {},
   "outputs": [
    {
     "name": "stdout",
     "output_type": "stream",
     "text": [
      "\n",
      "�� Data Info:\n",
      "Columns: 434\n",
      "Rows: 118108\n",
      "Target distribution:\n",
      "isFraud\n",
      "0    0.965\n",
      "1    0.035\n",
      "Name: proportion, dtype: float64\n"
     ]
    }
   ],
   "source": [
    "# Display basic info\n",
    "print(\"\\n�� Data Info:\")\n",
    "print(f\"Columns: {df.shape[1]}\")\n",
    "print(f\"Rows: {df.shape[0]}\")\n",
    "print(f\"Target distribution:\\n{df['isFraud'].value_counts(normalize=True).round(3)}\")"
   ]
  },
  {
   "cell_type": "code",
   "execution_count": 6,
   "id": "92751eab",
   "metadata": {},
   "outputs": [
    {
     "name": "stdout",
     "output_type": "stream",
     "text": [
      "🔧 Starting feature preprocessing...\n",
      "✅ Features (X): (118108, 433)\n",
      "✅ Target (y): (118108,)\n",
      "✅ Target distribution: {0: 113975, 1: 4133}\n"
     ]
    }
   ],
   "source": [
    "# Feature Preprocessing\n",
    "print(\"🔧 Starting feature preprocessing...\")\n",
    "\n",
    "# Separate features and target\n",
    "target_col = 'isFraud'\n",
    "X = df.drop(columns=[target_col])\n",
    "y = df[target_col]\n",
    "\n",
    "print(f\"✅ Features (X): {X.shape}\")\n",
    "print(f\"✅ Target (y): {y.shape}\")\n",
    "print(f\"✅ Target distribution: {y.value_counts().to_dict()}\")"
   ]
  },
  {
   "cell_type": "code",
   "execution_count": 7,
   "id": "fd7e27ef",
   "metadata": {},
   "outputs": [
    {
     "name": "stdout",
     "output_type": "stream",
     "text": [
      "📊 Categorical columns: 31\n",
      " Numerical columns: 402\n",
      "\n",
      "🔤 Categorical columns: ['ProductCD', 'card4', 'card6', 'P_emaildomain', 'R_emaildomain', 'M1', 'M2', 'M3', 'M4', 'M5']...\n",
      " Numerical columns: ['TransactionID', 'TransactionDT', 'TransactionAmt', 'card1', 'card2', 'card3', 'card5', 'addr1', 'addr2', 'dist1']...\n"
     ]
    }
   ],
   "source": [
    "# Identify categorical columns\n",
    "categorical_cols = X.select_dtypes(include=['object', 'category']).columns.tolist()\n",
    "numerical_cols = X.select_dtypes(include=['int64', 'float64']).columns.tolist()\n",
    "\n",
    "print(f\"📊 Categorical columns: {len(categorical_cols)}\")\n",
    "print(f\" Numerical columns: {len(numerical_cols)}\")\n",
    "print(f\"\\n🔤 Categorical columns: {categorical_cols[:10]}{'...' if len(categorical_cols) > 10 else ''}\")\n",
    "print(f\" Numerical columns: {numerical_cols[:10]}{'...' if len(numerical_cols) > 10 else ''}\")"
   ]
  },
  {
   "cell_type": "code",
   "execution_count": 8,
   "id": "4d8ab647",
   "metadata": {},
   "outputs": [
    {
     "name": "stdout",
     "output_type": "stream",
     "text": [
      "🔧 Handling missing values in numerical columns...\n",
      "✅ Missing values filled with -999\n",
      "📊 Missing value summary: 0 total missing values\n"
     ]
    }
   ],
   "source": [
    "# Handle missing values in numerical columns\n",
    "print(\"🔧 Handling missing values in numerical columns...\")\n",
    "X_numerical = X[numerical_cols].copy()\n",
    "X_numerical = X_numerical.fillna(-999)\n",
    "\n",
    "missing_counts = X_numerical.isnull().sum()\n",
    "print(f\"✅ Missing values filled with -999\")\n",
    "print(f\"📊 Missing value summary: {missing_counts.sum()} total missing values\")"
   ]
  },
  {
   "cell_type": "code",
   "execution_count": 9,
   "id": "b2459bf2",
   "metadata": {},
   "outputs": [
    {
     "name": "stdout",
     "output_type": "stream",
     "text": [
      " Applying frequency encoding to categorical columns...\n",
      "✅ Frequency encoding completed for 31 categorical columns\n"
     ]
    }
   ],
   "source": [
    "# Frequency encoding for categorical columns\n",
    "print(\" Applying frequency encoding to categorical columns...\")\n",
    "X_categorical = X[categorical_cols].copy()\n",
    "\n",
    "# Fill missing values with 'MISSING' first\n",
    "X_categorical = X_categorical.fillna('MISSING')\n",
    "\n",
    "# Apply frequency encoding\n",
    "for col in categorical_cols:\n",
    "    value_counts = X_categorical[col].value_counts()\n",
    "    X_categorical[col] = X_categorical[col].map(value_counts)\n",
    "    # Fill any remaining NaN with 0 (for unseen values)\n",
    "    X_categorical[col] = X_categorical[col].fillna(0)\n",
    "\n",
    "print(f\"✅ Frequency encoding completed for {len(categorical_cols)} categorical columns\")"
   ]
  },
  {
   "cell_type": "code",
   "execution_count": 10,
   "id": "b3072fcf",
   "metadata": {},
   "outputs": [
    {
     "name": "stdout",
     "output_type": "stream",
     "text": [
      "🔧 Combining all features...\n",
      "✅ Final feature matrix shape: (118108, 433)\n",
      "✅ Feature types: {dtype('float64'): 399, dtype('int64'): 34}\n",
      "✅ Memory usage: 390.17 MB\n"
     ]
    }
   ],
   "source": [
    "# Combine numerical and categorical features\n",
    "print(\"🔧 Combining all features...\")\n",
    "X_processed = pd.concat([X_numerical, X_categorical], axis=1)\n",
    "\n",
    "print(f\"✅ Final feature matrix shape: {X_processed.shape}\")\n",
    "print(f\"✅ Feature types: {X_processed.dtypes.value_counts().to_dict()}\")\n",
    "print(f\"✅ Memory usage: {X_processed.memory_usage(deep=True).sum() / 1024**2:.2f} MB\")"
   ]
  },
  {
   "cell_type": "code",
   "execution_count": 11,
   "id": "79bfa3fb",
   "metadata": {},
   "outputs": [
    {
     "name": "stdout",
     "output_type": "stream",
     "text": [
      "✂️ Splitting data into train/validation sets...\n",
      "✅ Training set: 94486 samples (80.0%)\n",
      "✅ Validation set: 23622 samples (20.0%)\n",
      "✅ Training fraud rate: 0.0350\n",
      "✅ Validation fraud rate: 0.0350\n"
     ]
    }
   ],
   "source": [
    "# Data Split\n",
    "print(\"✂️ Splitting data into train/validation sets...\")\n",
    "X_train, X_val, y_train, y_val = train_test_split(\n",
    "    X_processed, y, \n",
    "    test_size=0.2, \n",
    "    random_state=42, \n",
    "    stratify=y\n",
    ")\n",
    "\n",
    "print(f\"✅ Training set: {X_train.shape[0]} samples ({X_train.shape[0]/len(X_processed)*100:.1f}%)\")\n",
    "print(f\"✅ Validation set: {X_val.shape[0]} samples ({X_val.shape[0]/len(X_processed)*100:.1f}%)\")\n",
    "print(f\"✅ Training fraud rate: {y_train.mean():.4f}\")\n",
    "print(f\"✅ Validation fraud rate: {y_val.mean():.4f}\")"
   ]
  },
  {
   "cell_type": "code",
   "execution_count": 12,
   "id": "f69d98ce",
   "metadata": {},
   "outputs": [
    {
     "name": "stdout",
     "output_type": "stream",
     "text": [
      "🚀 Training XGBoost baseline model...\n",
      "✅ XGBoost model initialized\n",
      "📊 Model parameters: {'objective': 'binary:logistic', 'base_score': None, 'booster': None, 'callbacks': None, 'colsample_bylevel': None, 'colsample_bynode': None, 'colsample_bytree': 0.8, 'device': None, 'early_stopping_rounds': 10, 'enable_categorical': False, 'eval_metric': 'auc', 'feature_types': None, 'feature_weights': None, 'gamma': None, 'grow_policy': None, 'importance_type': None, 'interaction_constraints': None, 'learning_rate': 0.1, 'max_bin': None, 'max_cat_threshold': None, 'max_cat_to_onehot': None, 'max_delta_step': None, 'max_depth': 6, 'max_leaves': None, 'min_child_weight': 1, 'missing': nan, 'monotone_constraints': None, 'multi_strategy': None, 'n_estimators': 1000, 'n_jobs': None, 'num_parallel_tree': None, 'random_state': 42, 'reg_alpha': None, 'reg_lambda': None, 'sampling_method': None, 'scale_pos_weight': None, 'subsample': 0.8, 'tree_method': None, 'validate_parameters': None, 'verbosity': None, 'verbose': 100}\n"
     ]
    }
   ],
   "source": [
    "# Train Model\n",
    "print(\"🚀 Training XGBoost baseline model...\")\n",
    "\n",
    "# Initialize XGBoost classifier\n",
    "model = xgb.XGBClassifier(\n",
    "    n_estimators=1000,\n",
    "    learning_rate=0.1,\n",
    "    max_depth=6,\n",
    "    min_child_weight=1,\n",
    "    subsample=0.8,\n",
    "    colsample_bytree=0.8,\n",
    "    random_state=42,\n",
    "    eval_metric='auc',\n",
    "    early_stopping_rounds=10,\n",
    "    verbose=100\n",
    ")\n",
    "\n",
    "print(\"✅ XGBoost model initialized\")\n",
    "print(f\"📊 Model parameters: {model.get_params()}\")"
   ]
  },
  {
   "cell_type": "code",
   "execution_count": 13,
   "id": "01f1b30c",
   "metadata": {},
   "outputs": [
    {
     "name": "stdout",
     "output_type": "stream",
     "text": [
      "🔥 Starting training...\n",
      "[0]\tvalidation_0-auc:0.79738\n",
      "[1]\tvalidation_0-auc:0.84279\n",
      "[2]\tvalidation_0-auc:0.85431\n",
      "[3]\tvalidation_0-auc:0.86164\n",
      "[4]\tvalidation_0-auc:0.86270\n",
      "[5]\tvalidation_0-auc:0.86548\n",
      "[6]\tvalidation_0-auc:0.86907\n",
      "[7]\tvalidation_0-auc:0.87041\n",
      "[8]\tvalidation_0-auc:0.87311\n",
      "[9]\tvalidation_0-auc:0.87465\n",
      "[10]\tvalidation_0-auc:0.87504\n",
      "[11]\tvalidation_0-auc:0.87940\n",
      "[12]\tvalidation_0-auc:0.87917\n",
      "[13]\tvalidation_0-auc:0.88039\n",
      "[14]\tvalidation_0-auc:0.88051\n",
      "[15]\tvalidation_0-auc:0.88273\n",
      "[16]\tvalidation_0-auc:0.88341\n",
      "[17]\tvalidation_0-auc:0.88373\n",
      "[18]\tvalidation_0-auc:0.88455\n",
      "[19]\tvalidation_0-auc:0.88547\n",
      "[20]\tvalidation_0-auc:0.88595\n",
      "[21]\tvalidation_0-auc:0.88631\n",
      "[22]\tvalidation_0-auc:0.88664\n",
      "[23]\tvalidation_0-auc:0.88679\n",
      "[24]\tvalidation_0-auc:0.88671\n",
      "[25]\tvalidation_0-auc:0.88728\n",
      "[26]\tvalidation_0-auc:0.88788\n",
      "[27]\tvalidation_0-auc:0.88920\n",
      "[28]\tvalidation_0-auc:0.89058\n",
      "[29]\tvalidation_0-auc:0.89170\n",
      "[30]\tvalidation_0-auc:0.89234\n",
      "[31]\tvalidation_0-auc:0.89253\n",
      "[32]\tvalidation_0-auc:0.89293\n",
      "[33]\tvalidation_0-auc:0.89326\n",
      "[34]\tvalidation_0-auc:0.89403\n",
      "[35]\tvalidation_0-auc:0.89470\n",
      "[36]\tvalidation_0-auc:0.89503\n",
      "[37]\tvalidation_0-auc:0.89536\n",
      "[38]\tvalidation_0-auc:0.89587\n",
      "[39]\tvalidation_0-auc:0.89596\n",
      "[40]\tvalidation_0-auc:0.89660\n",
      "[41]\tvalidation_0-auc:0.89676\n",
      "[42]\tvalidation_0-auc:0.89754\n",
      "[43]\tvalidation_0-auc:0.89733\n",
      "[44]\tvalidation_0-auc:0.89726\n",
      "[45]\tvalidation_0-auc:0.89772\n",
      "[46]\tvalidation_0-auc:0.89846\n",
      "[47]\tvalidation_0-auc:0.89889\n",
      "[48]\tvalidation_0-auc:0.89891\n",
      "[49]\tvalidation_0-auc:0.90007\n",
      "[50]\tvalidation_0-auc:0.90083\n",
      "[51]\tvalidation_0-auc:0.90079\n",
      "[52]\tvalidation_0-auc:0.90138\n",
      "[53]\tvalidation_0-auc:0.90168\n",
      "[54]\tvalidation_0-auc:0.90163\n",
      "[55]\tvalidation_0-auc:0.90211\n",
      "[56]\tvalidation_0-auc:0.90272\n",
      "[57]\tvalidation_0-auc:0.90272\n",
      "[58]\tvalidation_0-auc:0.90296\n",
      "[59]\tvalidation_0-auc:0.90315\n",
      "[60]\tvalidation_0-auc:0.90382\n",
      "[61]\tvalidation_0-auc:0.90372\n",
      "[62]\tvalidation_0-auc:0.90405\n",
      "[63]\tvalidation_0-auc:0.90445\n",
      "[64]\tvalidation_0-auc:0.90454\n",
      "[65]\tvalidation_0-auc:0.90478\n",
      "[66]\tvalidation_0-auc:0.90520\n",
      "[67]\tvalidation_0-auc:0.90537\n",
      "[68]\tvalidation_0-auc:0.90582\n",
      "[69]\tvalidation_0-auc:0.90596\n",
      "[70]\tvalidation_0-auc:0.90633\n",
      "[71]\tvalidation_0-auc:0.90663\n",
      "[72]\tvalidation_0-auc:0.90675\n",
      "[73]\tvalidation_0-auc:0.90678\n",
      "[74]\tvalidation_0-auc:0.90713\n",
      "[75]\tvalidation_0-auc:0.90741\n",
      "[76]\tvalidation_0-auc:0.90795\n",
      "[77]\tvalidation_0-auc:0.90797\n",
      "[78]\tvalidation_0-auc:0.90817\n",
      "[79]\tvalidation_0-auc:0.90831\n",
      "[80]\tvalidation_0-auc:0.90836\n",
      "[81]\tvalidation_0-auc:0.90850\n",
      "[82]\tvalidation_0-auc:0.90876\n",
      "[83]\tvalidation_0-auc:0.90904\n",
      "[84]\tvalidation_0-auc:0.90890\n",
      "[85]\tvalidation_0-auc:0.90910\n",
      "[86]\tvalidation_0-auc:0.90918\n",
      "[87]\tvalidation_0-auc:0.91001\n",
      "[88]\tvalidation_0-auc:0.91010\n",
      "[89]\tvalidation_0-auc:0.91135\n",
      "[90]\tvalidation_0-auc:0.91173\n",
      "[91]\tvalidation_0-auc:0.91192\n",
      "[92]\tvalidation_0-auc:0.91219\n",
      "[93]\tvalidation_0-auc:0.91238\n",
      "[94]\tvalidation_0-auc:0.91260\n",
      "[95]\tvalidation_0-auc:0.91298\n",
      "[96]\tvalidation_0-auc:0.91300\n",
      "[97]\tvalidation_0-auc:0.91316\n",
      "[98]\tvalidation_0-auc:0.91328\n",
      "[99]\tvalidation_0-auc:0.91360\n",
      "[100]\tvalidation_0-auc:0.91380\n",
      "[101]\tvalidation_0-auc:0.91395\n",
      "[102]\tvalidation_0-auc:0.91411\n",
      "[103]\tvalidation_0-auc:0.91453\n",
      "[104]\tvalidation_0-auc:0.91469\n",
      "[105]\tvalidation_0-auc:0.91485\n",
      "[106]\tvalidation_0-auc:0.91486\n",
      "[107]\tvalidation_0-auc:0.91498\n",
      "[108]\tvalidation_0-auc:0.91522\n",
      "[109]\tvalidation_0-auc:0.91531\n",
      "[110]\tvalidation_0-auc:0.91541\n",
      "[111]\tvalidation_0-auc:0.91537\n",
      "[112]\tvalidation_0-auc:0.91546\n",
      "[113]\tvalidation_0-auc:0.91564\n",
      "[114]\tvalidation_0-auc:0.91580\n",
      "[115]\tvalidation_0-auc:0.91576\n",
      "[116]\tvalidation_0-auc:0.91604\n",
      "[117]\tvalidation_0-auc:0.91612\n",
      "[118]\tvalidation_0-auc:0.91607\n",
      "[119]\tvalidation_0-auc:0.91637\n",
      "[120]\tvalidation_0-auc:0.91650\n",
      "[121]\tvalidation_0-auc:0.91656\n",
      "[122]\tvalidation_0-auc:0.91658\n",
      "[123]\tvalidation_0-auc:0.91681\n",
      "[124]\tvalidation_0-auc:0.91691\n",
      "[125]\tvalidation_0-auc:0.91699\n",
      "[126]\tvalidation_0-auc:0.91681\n",
      "[127]\tvalidation_0-auc:0.91702\n",
      "[128]\tvalidation_0-auc:0.91712\n",
      "[129]\tvalidation_0-auc:0.91734\n",
      "[130]\tvalidation_0-auc:0.91753\n",
      "[131]\tvalidation_0-auc:0.91751\n",
      "[132]\tvalidation_0-auc:0.91750\n",
      "[133]\tvalidation_0-auc:0.91745\n",
      "[134]\tvalidation_0-auc:0.91767\n",
      "[135]\tvalidation_0-auc:0.91773\n",
      "[136]\tvalidation_0-auc:0.91776\n",
      "[137]\tvalidation_0-auc:0.91791\n",
      "[138]\tvalidation_0-auc:0.91795\n",
      "[139]\tvalidation_0-auc:0.91854\n",
      "[140]\tvalidation_0-auc:0.91856\n",
      "[141]\tvalidation_0-auc:0.91890\n",
      "[142]\tvalidation_0-auc:0.91893\n",
      "[143]\tvalidation_0-auc:0.91897\n",
      "[144]\tvalidation_0-auc:0.91894\n",
      "[145]\tvalidation_0-auc:0.91904\n",
      "[146]\tvalidation_0-auc:0.91908\n",
      "[147]\tvalidation_0-auc:0.91920\n",
      "[148]\tvalidation_0-auc:0.91929\n",
      "[149]\tvalidation_0-auc:0.91933\n",
      "[150]\tvalidation_0-auc:0.91944\n",
      "[151]\tvalidation_0-auc:0.91952\n",
      "[152]\tvalidation_0-auc:0.91952\n",
      "[153]\tvalidation_0-auc:0.91956\n",
      "[154]\tvalidation_0-auc:0.91962\n",
      "[155]\tvalidation_0-auc:0.91965\n",
      "[156]\tvalidation_0-auc:0.91968\n",
      "[157]\tvalidation_0-auc:0.91970\n",
      "[158]\tvalidation_0-auc:0.91991\n",
      "[159]\tvalidation_0-auc:0.91974\n",
      "[160]\tvalidation_0-auc:0.91988\n",
      "[161]\tvalidation_0-auc:0.92009\n",
      "[162]\tvalidation_0-auc:0.92024\n",
      "[163]\tvalidation_0-auc:0.92029\n",
      "[164]\tvalidation_0-auc:0.92033\n",
      "[165]\tvalidation_0-auc:0.92030\n",
      "[166]\tvalidation_0-auc:0.92037\n",
      "[167]\tvalidation_0-auc:0.92047\n",
      "[168]\tvalidation_0-auc:0.92040\n",
      "[169]\tvalidation_0-auc:0.92025\n",
      "[170]\tvalidation_0-auc:0.92023\n",
      "[171]\tvalidation_0-auc:0.92035\n",
      "[172]\tvalidation_0-auc:0.92039\n",
      "[173]\tvalidation_0-auc:0.92044\n",
      "[174]\tvalidation_0-auc:0.92054\n",
      "[175]\tvalidation_0-auc:0.92089\n",
      "[176]\tvalidation_0-auc:0.92100\n",
      "[177]\tvalidation_0-auc:0.92111\n",
      "[178]\tvalidation_0-auc:0.92128\n",
      "[179]\tvalidation_0-auc:0.92135\n",
      "[180]\tvalidation_0-auc:0.92129\n",
      "[181]\tvalidation_0-auc:0.92132\n",
      "[182]\tvalidation_0-auc:0.92096\n",
      "[183]\tvalidation_0-auc:0.92103\n",
      "[184]\tvalidation_0-auc:0.92097\n",
      "[185]\tvalidation_0-auc:0.92095\n",
      "[186]\tvalidation_0-auc:0.92094\n",
      "[187]\tvalidation_0-auc:0.92104\n",
      "[188]\tvalidation_0-auc:0.92106\n",
      "[189]\tvalidation_0-auc:0.92083\n",
      "✅ Training completed!\n",
      "📊 Best iteration: 179\n",
      "📊 Best validation AUC: 0.9213\n"
     ]
    }
   ],
   "source": [
    "# Train the model with early stopping\n",
    "print(\"🔥 Starting training...\")\n",
    "model.fit(\n",
    "    X_train, y_train,\n",
    "    eval_set=[(X_val, y_val)],\n",
    "    verbose=True\n",
    ")\n",
    "\n",
    "print(\"✅ Training completed!\")\n",
    "print(f\"📊 Best iteration: {model.best_iteration}\")\n",
    "print(f\"📊 Best validation AUC: {model.best_score:.4f}\")"
   ]
  },
  {
   "cell_type": "code",
   "execution_count": 14,
   "id": "1df7ce85",
   "metadata": {},
   "outputs": [
    {
     "name": "stdout",
     "output_type": "stream",
     "text": [
      "📊 Evaluating model performance...\n",
      "🎯 PERFORMANCE RESULTS:\n",
      "==================================================\n",
      "ROC-AUC Score: 0.9213\n",
      "==================================================\n",
      "\n",
      " BASELINE TARGET: 0.9213\n",
      "This ROC-AUC score is our official target to beat with graph features!\n"
     ]
    }
   ],
   "source": [
    "# Evaluate Performance\n",
    "print(\"📊 Evaluating model performance...\")\n",
    "\n",
    "# Make predictions\n",
    "y_pred_proba = model.predict_proba(X_val)[:, 1]\n",
    "y_pred = model.predict(X_val)\n",
    "\n",
    "# Calculate metrics\n",
    "roc_auc = roc_auc_score(y_val, y_pred_proba)\n",
    "\n",
    "print(\"🎯 PERFORMANCE RESULTS:\")\n",
    "print(\"=\" * 50)\n",
    "print(f\"ROC-AUC Score: {roc_auc:.4f}\")\n",
    "print(\"=\" * 50)\n",
    "\n",
    "# This is our official baseline to beat!\n",
    "print(f\"\\n BASELINE TARGET: {roc_auc:.4f}\")\n",
    "print(\"This ROC-AUC score is our official target to beat with graph features!\")"
   ]
  },
  {
   "cell_type": "code",
   "execution_count": 15,
   "id": "a037af0a",
   "metadata": {},
   "outputs": [
    {
     "name": "stdout",
     "output_type": "stream",
     "text": [
      "📋 Detailed Classification Report:\n",
      "==================================================\n",
      "              precision    recall  f1-score   support\n",
      "\n",
      "  Legitimate       0.98      1.00      0.99     22795\n",
      "       Fraud       0.88      0.42      0.57       827\n",
      "\n",
      "    accuracy                           0.98     23622\n",
      "   macro avg       0.93      0.71      0.78     23622\n",
      "weighted avg       0.98      0.98      0.97     23622\n",
      "\n",
      "==================================================\n"
     ]
    }
   ],
   "source": [
    "# Print detailed classification report\n",
    "print(\"📋 Detailed Classification Report:\")\n",
    "print(\"=\" * 50)\n",
    "print(classification_report(y_val, y_pred, target_names=['Legitimate', 'Fraud']))\n",
    "print(\"=\" * 50)"
   ]
  },
  {
   "cell_type": "code",
   "execution_count": 16,
   "id": "591151f7",
   "metadata": {},
   "outputs": [
    {
     "name": "stdout",
     "output_type": "stream",
     "text": [
      "🔍 Analyzing feature importance...\n",
      "🏆 Top 20 Most Important Features:\n",
      "    feature  importance\n",
      "296    V257    0.177193\n",
      "262    V223    0.137105\n",
      "228    V189    0.063457\n",
      "240    V201    0.049679\n",
      "370    V331    0.021664\n",
      "109     V70    0.019399\n",
      "130     V91    0.018180\n",
      "18       C8    0.017562\n",
      "297    V258    0.016975\n",
      "129     V90    0.015661\n",
      "392   id_17    0.013994\n",
      "229    V190    0.009198\n",
      "24      C14    0.008831\n",
      "356    V317    0.007783\n",
      "401   id_32    0.007172\n",
      "22      C12    0.005891\n",
      "177    V138    0.005140\n",
      "11       C1    0.005013\n",
      "347    V308    0.004949\n",
      "8     addr2    0.004523\n"
     ]
    }
   ],
   "source": [
    "# Feature importance analysis\n",
    "print(\"🔍 Analyzing feature importance...\")\n",
    "\n",
    "# Get feature importance\n",
    "feature_importance = pd.DataFrame({\n",
    "    'feature': X_processed.columns,\n",
    "    'importance': model.feature_importances_\n",
    "}).sort_values('importance', ascending=False)\n",
    "\n",
    "print(\"🏆 Top 20 Most Important Features:\")\n",
    "print(feature_importance.head(20))"
   ]
  },
  {
   "cell_type": "code",
   "execution_count": 17,
   "id": "3afc617f",
   "metadata": {},
   "outputs": [
    {
     "name": "stdout",
     "output_type": "stream",
     "text": [
      "✅ Feature importance plot saved as 'baseline_feature_importance.png'\n"
     ]
    }
   ],
   "source": [
    "# Plot top 15 features\n",
    "import matplotlib.pyplot as plt\n",
    "plt.figure(figsize=(10, 8))\n",
    "top_features = feature_importance.head(15)\n",
    "plt.barh(range(len(top_features)), top_features['importance'])\n",
    "plt.yticks(range(len(top_features)), top_features['feature'])\n",
    "plt.xlabel('Feature Importance')\n",
    "plt.title('Top 15 Most Important Features (Baseline XGBoost)')\n",
    "plt.gca().invert_yaxis()\n",
    "plt.tight_layout()\n",
    "plt.savefig('baseline_feature_importance.png', dpi=100, bbox_inches='tight')\n",
    "plt.close()\n",
    "print(\"✅ Feature importance plot saved as 'baseline_feature_importance.png'\")"
   ]
  },
  {
   "cell_type": "code",
   "execution_count": 18,
   "id": "d4a9bbc4",
   "metadata": {},
   "outputs": [
    {
     "name": "stdout",
     "output_type": "stream",
     "text": [
      "💾 Saving model artifacts...\n",
      "✅ Baseline model saved to: ..\\app\\artifacts\\baseline_model.pkl\n"
     ]
    }
   ],
   "source": [
    "# Save Artifacts\n",
    "print(\"💾 Saving model artifacts...\")\n",
    "\n",
    "# Save the trained model\n",
    "model_path = output_dir / \"baseline_model.pkl\"\n",
    "joblib.dump(model, model_path)\n",
    "print(f\"✅ Baseline model saved to: {model_path}\")"
   ]
  },
  {
   "cell_type": "code",
   "execution_count": 19,
   "id": "e370f783",
   "metadata": {},
   "outputs": [
    {
     "name": "stdout",
     "output_type": "stream",
     "text": [
      "✅ Feature names saved to: ..\\app\\artifacts\\baseline_feature_names.pkl\n"
     ]
    }
   ],
   "source": [
    "# Save feature names for later use\n",
    "feature_names_path = output_dir / \"baseline_feature_names.pkl\"\n",
    "joblib.dump(X_processed.columns.tolist(), feature_names_path)\n",
    "print(f\"✅ Feature names saved to: {feature_names_path}\")\n"
   ]
  },
  {
   "cell_type": "code",
   "execution_count": 20,
   "id": "9bce3e90",
   "metadata": {},
   "outputs": [
    {
     "name": "stdout",
     "output_type": "stream",
     "text": [
      "✅ Feature importance saved to: ..\\app\\artifacts\\baseline_feature_importance.csv\n",
      "\n",
      " BASELINE MODEL TRAINING COMPLETED!\n",
      "🏆 Your baseline ROC-AUC target: 0.9213\n",
      "\n",
      "Next step: Build graph features and try to beat this baseline!\n"
     ]
    }
   ],
   "source": [
    "# Save feature importance\n",
    "importance_path = output_dir / \"baseline_feature_importance.csv\"\n",
    "feature_importance.to_csv(importance_path, index=False)\n",
    "print(f\"✅ Feature importance saved to: {importance_path}\")\n",
    "\n",
    "print(\"\\n BASELINE MODEL TRAINING COMPLETED!\")\n",
    "print(f\"🏆 Your baseline ROC-AUC target: {roc_auc:.4f}\")\n",
    "print(\"\\nNext step: Build graph features and try to beat this baseline!\")"
   ]
  }
 ],
 "metadata": {
  "kernelspec": {
   "display_name": ".venv",
   "language": "python",
   "name": "python3"
  },
  "language_info": {
   "codemirror_mode": {
    "name": "ipython",
    "version": 3
   },
   "file_extension": ".py",
   "mimetype": "text/x-python",
   "name": "python",
   "nbconvert_exporter": "python",
   "pygments_lexer": "ipython3",
   "version": "3.13.7"
  }
 },
 "nbformat": 4,
 "nbformat_minor": 5
}
